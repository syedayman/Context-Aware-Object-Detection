{
  "nbformat": 4,
  "nbformat_minor": 0,
  "metadata": {
    "colab": {
      "provenance": []
    },
    "kernelspec": {
      "name": "python3",
      "display_name": "Python 3"
    },
    "language_info": {
      "name": "python"
    },
    "accelerator": "GPU",
    "gpuClass": "standard"
  },
  "cells": [
    {
      "cell_type": "markdown",
      "source": [
        "# Object Detection Model"
      ],
      "metadata": {
        "id": "-5Q1WcGL5y0h"
      }
    },
    {
      "cell_type": "markdown",
      "source": [
        "***\n",
        "### Install and Import libraries"
      ],
      "metadata": {
        "id": "UbAAV5vY5yxE"
      }
    },
    {
      "cell_type": "code",
      "execution_count": null,
      "metadata": {
        "id": "d5lQ7nrzYxv0"
      },
      "outputs": [],
      "source": [
        "!pip install tensorflow\n",
        "!pip install opencv-python\n",
        "!pip install matplotlib"
      ]
    },
    {
      "cell_type": "code",
      "source": [
        "import tensorflow as tf\n",
        "import numpy as np\n",
        "import json\n",
        "from matplotlib import pyplot as plt\n",
        "import os\n",
        "import cv2"
      ],
      "metadata": {
        "id": "o250d22sY6UN"
      },
      "execution_count": null,
      "outputs": []
    },
    {
      "cell_type": "code",
      "source": [
        "from tensorflow.keras.models import Sequential\n",
        "from tensorflow.keras.layers import *\n",
        "from tensorflow.keras.models import Model\n",
        "from keras.applications.vgg16 import VGG16\n",
        "from tensorflow.keras.models import load_model\n",
        "from tensorflow.keras.callbacks import EarlyStopping"
      ],
      "metadata": {
        "id": "b36zKKGqZCOI"
      },
      "execution_count": null,
      "outputs": []
    },
    {
      "cell_type": "markdown",
      "source": [
        "***\n",
        "### Load Images and Labels Dataset"
      ],
      "metadata": {
        "id": "3TWRj43m5-W6"
      }
    },
    {
      "cell_type": "code",
      "source": [
        "# helper function to load images \n",
        "def load_JPG(x): \n",
        "    byte_img = tf.io.read_file(x)\n",
        "    img = tf.io.decode_jpeg(byte_img)\n",
        "    return img"
      ],
      "metadata": {
        "id": "hXs4iU6jZPkh"
      },
      "execution_count": null,
      "outputs": []
    },
    {
      "cell_type": "code",
      "source": [
        "# helper function to load labels without scene category \n",
        "def load_labels(label_path):\n",
        "    with open(label_path.numpy(), 'r', encoding = \"utf-8\") as f:\n",
        "        label = json.load(f)\n",
        "        \n",
        "    return label['class'], label['bbox']"
      ],
      "metadata": {
        "id": "yK5BWhBFZQOC"
      },
      "execution_count": null,
      "outputs": []
    },
    {
      "cell_type": "code",
      "source": [
        "class_labels = [ 'football_beach', 'football_street', 'umbrella_beach', 'umbrella_street', 'sand_castle', 'car', 'aeroplane', 'bird_sky', 'bird_forest', 'moon', 'apple']"
      ],
      "metadata": {
        "id": "qF3LxO7c8KC7"
      },
      "execution_count": null,
      "outputs": []
    },
    {
      "cell_type": "code",
      "source": [
        "# transformation function to appy augmentations \n",
        "augmentor = A.Compose([A.Flip(p=0.5), \n",
        "                       A.Rotate(p=0.2),\n",
        "                       A.Blur(p=0.1),\n",
        "                       A.GaussNoise(p=0.5),\n",
        "                       A.HueSaturationValue(p=0.5),\n",
        "                       A.RandomBrightnessContrast(p=0.3),\n",
        "                       A.RandomRotate90(p=0.2), \n",
        "                       A.RGBShift(p=0.5)], \n",
        "                       bbox_params=A.BboxParams(format='albumentations', label_fields=['class_labels']))"
      ],
      "metadata": {
        "id": "qrzWBmZ68Lax"
      },
      "execution_count": null,
      "outputs": []
    },
    {
      "cell_type": "code",
      "source": [
        "# creating augmented images\n",
        "for folder in ['train','test','val']: \n",
        "    for image in os.listdir(os.path.join(r\"C:\\Users\\hudna\\Downloads\\OD\\data\", folder, 'images')):\n",
        "        img = cv2.imread(os.path.join(r\"C:\\Users\\hudna\\Downloads\\OD\\data\", folder, 'images', image))\n",
        "\n",
        "        coords = [0,0,0.00001,0.00001]\n",
        "        label_path = os.path.join(r\"C:\\Users\\hudna\\Downloads\\OD\\data\", folder, 'labels', f'{image.split(\".\")[0]}.json')\n",
        "        if os.path.exists(label_path):\n",
        "            with open(label_path, 'r') as f:\n",
        "                label = json.load(f)\n",
        "\n",
        "            # get annotated bbox coordinates and normalize\n",
        "            coords[0] = label['shapes'][0]['points'][0][0]\n",
        "            coords[1] = label['shapes'][0]['points'][0][1]\n",
        "            coords[2] = label['shapes'][0]['points'][1][0]\n",
        "            coords[3] = label['shapes'][0]['points'][1][1]\n",
        "            coords = list(np.divide(coords, [150,150,150,150]))\n",
        "\n",
        "        try: \n",
        "            for x in range(16):\n",
        "                with open(label_path, 'r') as f:\n",
        "                    label = json.load(f)\n",
        "                \n",
        "                if label['shapes'][0]['label'] == 'football_beach':\n",
        "                    augmented = augmentor(image=img, bboxes=[coords], class_labels=['football_beach'])\n",
        "                    cv2.imwrite(os.path.join(r\"C:\\Users\\hudna\\Downloads\\OD\\augdata\", folder, 'images', f'{image.split(\".\")[0]}.{x}.jpg'), augmented['image'])\n",
        "                    \n",
        "                    # create new annotations\n",
        "                    annotation = {}\n",
        "                    annotation['image'] = image\n",
        "                    annotation['bbox'] = augmented['bboxes'][0]\n",
        "                    annotation['class'] = [1, 0, 0, 0, 0, 0, 0, 0]\n",
        "                    annotation['scene'] = [1, 0, 0, 0]\n",
        "\n",
        "                    with open(os.path.join(r\"C:\\Users\\hudna\\Downloads\\OD\\augdata\", folder, 'labels', f'{image.split(\".\")[0]}.{x}.json'), 'w') as f:\n",
        "                        json.dump(annotation, f)\n",
        "                        \n",
        "                elif label['shapes'][0]['label'] == 'football_street':\n",
        "                    augmented = augmentor(image=img, bboxes=[coords], class_labels=['football_street'])\n",
        "                    cv2.imwrite(os.path.join(r\"C:\\Users\\hudna\\Downloads\\OD\\augdata\", folder, 'images', f'{image.split(\".\")[0]}.{x}.jpg'), augmented['image'])\n",
        "\n",
        "                    annotation = {}\n",
        "                    annotation['image'] = image\n",
        "                    annotation['bbox'] = augmented['bboxes'][0]\n",
        "                    annotation['class'] = [1, 0, 0, 0, 0, 0, 0, 0]\n",
        "                    annotation['scene'] = [0, 0, 0, 1]\n",
        "\n",
        "                    with open(os.path.join(r\"C:\\Users\\hudna\\Downloads\\OD\\augdata\", folder, 'labels', f'{image.split(\".\")[0]}.{x}.json'), 'w') as f:\n",
        "                        json.dump(annotation, f)\n",
        "                        \n",
        "                elif label['shapes'][0]['label'] == 'umbrella_beach':\n",
        "                    augmented = augmentor(image=img, bboxes=[coords], class_labels=['umbrella_beach'])\n",
        "                    cv2.imwrite(os.path.join(r\"C:\\Users\\hudna\\Downloads\\OD\\augdata\", folder, 'images', f'{image.split(\".\")[0]}.{x}.jpg'), augmented['image'])\n",
        "\n",
        "                    annotation = {}\n",
        "                    annotation['image'] = image\n",
        "                    annotation['bbox'] = augmented['bboxes'][0]\n",
        "                    annotation['class'] = [0, 1, 0, 0, 0, 0, 0, 0]\n",
        "                    annotation['scene'] = [1, 0, 0, 0]\n",
        "\n",
        "                    with open(os.path.join(r\"C:\\Users\\hudna\\Downloads\\OD\\augdata\", folder, 'labels', f'{image.split(\".\")[0]}.{x}.json'), 'w') as f:\n",
        "                        json.dump(annotation, f)\n",
        "                        \n",
        "                elif label['shapes'][0]['label'] == 'umbrella_street':\n",
        "                    augmented = augmentor(image=img, bboxes=[coords], class_labels=['umbrella_street'])\n",
        "                    cv2.imwrite(os.path.join(r\"C:\\Users\\hudna\\Downloads\\OD\\augdata\", folder, 'images', f'{image.split(\".\")[0]}.{x}.jpg'), augmented['image'])\n",
        "\n",
        "                    annotation = {}\n",
        "                    annotation['image'] = image\n",
        "                    annotation['bbox'] = augmented['bboxes'][0]\n",
        "                    annotation['class'] = [0, 1, 0, 0, 0, 0, 0, 0]\n",
        "                    annotation['scene'] = [0, 0, 0, 1]\n",
        "\n",
        "                    with open(os.path.join(r\"C:\\Users\\hudna\\Downloads\\OD\\augdata\", folder, 'labels', f'{image.split(\".\")[0]}.{x}.json'), 'w') as f:\n",
        "                        json.dump(annotation, f)\n",
        "                        \n",
        "                elif label['shapes'][0]['label'] == 'sand_castle':\n",
        "                    augmented = augmentor(image=img, bboxes=[coords], class_labels=['sand_castle'])\n",
        "                    cv2.imwrite(os.path.join(r\"C:\\Users\\hudna\\Downloads\\OD\\augdata\", folder, 'images', f'{image.split(\".\")[0]}.{x}.jpg'), augmented['image'])\n",
        "\n",
        "                    annotation = {}\n",
        "                    annotation['image'] = image\n",
        "                    annotation['bbox'] = augmented['bboxes'][0]\n",
        "                    annotation['class'] = [0, 0, 1, 0, 0, 0, 0, 0]\n",
        "                    annotation['scene'] = [1, 0, 0, 0]\n",
        "\n",
        "                    with open(os.path.join(r\"C:\\Users\\hudna\\Downloads\\OD\\augdata\", folder, 'labels', f'{image.split(\".\")[0]}.{x}.json'), 'w') as f:\n",
        "                        json.dump(annotation, f)\n",
        "                \n",
        "                elif label['shapes'][0]['label'] == 'car':\n",
        "                    augmented = augmentor(image=img, bboxes=[coords], class_labels=['car'])\n",
        "                    cv2.imwrite(os.path.join(r\"C:\\Users\\hudna\\Downloads\\OD\\augdata\", folder, 'images', f'{image.split(\".\")[0]}.{x}.jpg'), augmented['image'])\n",
        "\n",
        "                    annotation = {}\n",
        "                    annotation['image'] = image\n",
        "                    annotation['bbox'] = augmented['bboxes'][0]\n",
        "                    annotation['class'] = [0, 0, 0, 1, 0, 0, 0, 0]\n",
        "                    annotation['scene'] = [0, 0, 0, 1]\n",
        "\n",
        "                    with open(os.path.join(r\"C:\\Users\\hudna\\Downloads\\OD\\augdata\", folder, 'labels', f'{image.split(\".\")[0]}.{x}.json'), 'w') as f:\n",
        "                        json.dump(annotation, f)\n",
        "                        \n",
        "                elif label['shapes'][0]['label'] == 'aeroplane':\n",
        "                    augmented = augmentor(image=img, bboxes=[coords], class_labels=['aeroplane'])\n",
        "                    cv2.imwrite(os.path.join(r\"C:\\Users\\hudna\\Downloads\\OD\\augdata\", folder, 'images', f'{image.split(\".\")[0]}.{x}.jpg'), augmented['image'])\n",
        "\n",
        "                    annotation = {}\n",
        "                    annotation['image'] = image\n",
        "                    annotation['bbox'] = augmented['bboxes'][0]\n",
        "                    annotation['class'] = [0, 0, 0, 0, 1, 0, 0, 0]\n",
        "                    annotation['scene'] = [0, 0, 1, 0]\n",
        "\n",
        "                    with open(os.path.join(r\"C:\\Users\\hudna\\Downloads\\OD\\augdata\", folder, 'labels', f'{image.split(\".\")[0]}.{x}.json'), 'w') as f:\n",
        "                        json.dump(annotation, f)\n",
        "                        \n",
        "                        \n",
        "                elif label['shapes'][0]['label'] == 'bird_sky':\n",
        "                    augmented = augmentor(image=img, bboxes=[coords], class_labels=['bird_sky'])\n",
        "                    cv2.imwrite(os.path.join(r\"C:\\Users\\hudna\\Downloads\\OD\\augdata\", folder, 'images', f'{image.split(\".\")[0]}.{x}.jpg'), augmented['image'])\n",
        "\n",
        "                    annotation = {}\n",
        "                    annotation['image'] = image\n",
        "                    annotation['bbox'] = augmented['bboxes'][0]\n",
        "                    annotation['class'] = [0, 0, 0, 0, 0, 1, 0, 0]\n",
        "                    annotation['scene'] = [0, 0, 1, 0]\n",
        "\n",
        "                    with open(os.path.join(r\"C:\\Users\\hudna\\Downloads\\OD\\augdata\", folder, 'labels', f'{image.split(\".\")[0]}.{x}.json'), 'w') as f:\n",
        "                        json.dump(annotation, f)   \n",
        "                        \n",
        "                elif label['shapes'][0]['label'] == 'bird_forest':\n",
        "                    augmented = augmentor(image=img, bboxes=[coords], class_labels=['bird_forest'])\n",
        "                    cv2.imwrite(os.path.join(r\"C:\\Users\\hudna\\Downloads\\OD\\augdata\", folder, 'images', f'{image.split(\".\")[0]}.{x}.jpg'), augmented['image'])\n",
        "\n",
        "                    annotation = {}\n",
        "                    annotation['image'] = image\n",
        "                    annotation['bbox'] = augmented['bboxes'][0]\n",
        "                    annotation['class'] = [0, 0, 0, 0, 0, 1, 0, 0]\n",
        "                    annotation['scene'] = [0, 1, 0, 0]\n",
        "\n",
        "                    with open(os.path.join(r\"C:\\Users\\hudna\\Downloads\\OD\\augdata\", folder, 'labels', f'{image.split(\".\")[0]}.{x}.json'), 'w') as f:\n",
        "                        json.dump(annotation, f)    \n",
        "                        \n",
        "                        \n",
        "                elif label['shapes'][0]['label'] == 'moon':\n",
        "                    augmented = augmentor(image=img, bboxes=[coords], class_labels=['moon'])\n",
        "                    cv2.imwrite(os.path.join(r\"C:\\Users\\hudna\\Downloads\\OD\\augdata\", folder, 'images', f'{image.split(\".\")[0]}.{x}.jpg'), augmented['image'])\n",
        "\n",
        "                    annotation = {}\n",
        "                    annotation['image'] = image\n",
        "                    annotation['bbox'] = augmented['bboxes'][0]\n",
        "                    annotation['class'] = [0, 0, 0, 0, 0, 0, 1, 0]\n",
        "                    annotation['scene'] = [0, 0, 1, 0]\n",
        "\n",
        "                    with open(os.path.join(r\"C:\\Users\\hudna\\Downloads\\OD\\augdata\", folder, 'labels', f'{image.split(\".\")[0]}.{x}.json'), 'w') as f:\n",
        "                        json.dump(annotation, f)    \n",
        "                        \n",
        "                        \n",
        "                elif label['shapes'][0]['label'] == 'apple':\n",
        "                    augmented = augmentor(image=img, bboxes=[coords], class_labels=['apple'])\n",
        "                    cv2.imwrite(os.path.join(r\"C:\\Users\\hudna\\Downloads\\OD\\augdata\", folder, 'images', f'{image.split(\".\")[0]}.{x}.jpg'), augmented['image'])\n",
        "\n",
        "                    annotation = {}\n",
        "                    annotation['image'] = image\n",
        "                    annotation['bbox'] = augmented['bboxes'][0]\n",
        "                    annotation['class'] = [0, 0, 0, 0, 0, 0, 0, 1]\n",
        "                    annotation['scene'] = [0, 1, 0, 0]\n",
        "\n",
        "                    with open(os.path.join(r\"C:\\Users\\hudna\\Downloads\\OD\\augdata\", folder, 'labels', f'{image.split(\".\")[0]}.{x}.json'), 'w') as f:\n",
        "                        json.dump(annotation, f)    \n",
        "                        \n",
        "        except Exception as e:\n",
        "            print(e)"
      ],
      "metadata": {
        "id": "VfN0obEa8WtQ"
      },
      "execution_count": null,
      "outputs": []
    },
    {
      "cell_type": "code",
      "source": [
        "# function to calculate the class distribution\n",
        "class_counts = [0] * 8\n",
        "def count_classes_in_folder(folder_path):\n",
        "    for filename in os.listdir(folder_path):\n",
        "        if filename.endswith('.json'):\n",
        "            with open(os.path.join(folder_path, filename)) as f:\n",
        "                data = json.load(f)\n",
        "                class_label = np.argmax(data['class'])\n",
        "                class_counts[class_label] += 1\n",
        "    return class_counts"
      ],
      "metadata": {
        "id": "YZQ5HN8d82FR"
      },
      "execution_count": null,
      "outputs": []
    },
    {
      "cell_type": "code",
      "source": [
        "# load images and labels from local machine \n",
        "train_images = tf.data.Dataset.list_files(\"/content/augdata/train/images/*.jpg\", shuffle=False)\n",
        "val_images = tf.data.Dataset.list_files(\"/content/augdata/val/images/*.jpg\", shuffle=False)\n",
        "test_images = tf.data.Dataset.list_files(\"/content/augdata/test/images/*.jpg\", shuffle=False)\n",
        "\n",
        "train_labels = tf.data.Dataset.list_files(\"/content/augdata/train/labels/*.json\", shuffle=False)\n",
        "test_labels = tf.data.Dataset.list_files(\"/content/augdata/test/labels/*.json\", shuffle=False)\n",
        "val_labels = tf.data.Dataset.list_files(\"/content/augdata/val/labels/*.json\", shuffle=False)\n",
        "\n",
        "# preprocess images and labels without scene labels category\n",
        "train_images = train_images.map(load_image)\n",
        "train_images = train_images.map(lambda x: tf.image.resize(x, (150,150)))\n",
        "train_images = train_images.map(lambda x: x/255)\n",
        "train_labels = train_labels.map(lambda x: tf.py_function(load_labels, [x], [tf.uint64, tf.float16]))\n",
        "\n",
        "test_images = test_images.map(load_image)\n",
        "test_images = test_images.map(lambda x: tf.image.resize(x, (150,150)))\n",
        "test_images = test_images.map(lambda x: x/255)\n",
        "test_labels = test_labels.map(lambda x: tf.py_function(load_labels, [x], [tf.uint64, tf.float16]))\n",
        "\n",
        "val_images = val_images.map(load_image)\n",
        "val_images = val_images.map(lambda x: tf.image.resize(x, (150,150)))\n",
        "val_images = val_images.map(lambda x: x/255)\n",
        "val_labels = val_labels.map(lambda x: tf.py_function(load_labels, [x], [tf.uint64, tf.float16]))"
      ],
      "metadata": {
        "id": "Sug7_JXVZS0T"
      },
      "execution_count": null,
      "outputs": []
    },
    {
      "cell_type": "code",
      "source": [
        "# combine images and lables into one Dataset object\n",
        "train = tf.data.Dataset.zip((train_images, train_labels))\n",
        "train = train.shuffle(2000)\n",
        "train = train.batch(32)\n",
        "\n",
        "test = tf.data.Dataset.zip((test_images, test_labels))\n",
        "test = test.shuffle(1000)\n",
        "test = test.batch(704) # test batch uses one batch to prevent using batch averages for testing results\n",
        "\n",
        "val = tf.data.Dataset.zip((val_images, val_labels))\n",
        "val = val.shuffle(1000)\n",
        "val = val.batch(32)"
      ],
      "metadata": {
        "id": "syOhp9dbcXFw"
      },
      "execution_count": null,
      "outputs": []
    },
    {
      "cell_type": "code",
      "source": [
        "# to view 'train' Dataset object\n",
        "train.as_numpy_iterator().next()"
      ],
      "metadata": {
        "colab": {
          "base_uri": "https://localhost:8080/"
        },
        "id": "AbRct0XScc_q",
        "outputId": "f368ab77-d7f5-4fdc-8dba-b36e08991706"
      },
      "execution_count": null,
      "outputs": [
        {
          "output_type": "execute_result",
          "data": {
            "text/plain": [
              "(array([[[[0.7882353 , 0.84705883, 0.73333335],\n",
              "          [0.78039217, 0.8352941 , 0.73333335],\n",
              "          [0.78039217, 0.827451  , 0.73333335],\n",
              "          ...,\n",
              "          [0.7294118 , 0.78039217, 0.7019608 ],\n",
              "          [0.74509805, 0.7921569 , 0.7137255 ],\n",
              "          [0.75686276, 0.8039216 , 0.7254902 ]],\n",
              " \n",
              "         [[0.79607844, 0.8509804 , 0.7490196 ],\n",
              "          [0.75686276, 0.8117647 , 0.70980394],\n",
              "          [0.77254903, 0.81960785, 0.7254902 ],\n",
              "          ...,\n",
              "          [0.7411765 , 0.7921569 , 0.7137255 ],\n",
              "          [0.78039217, 0.8235294 , 0.75686276],\n",
              "          [0.7764706 , 0.8235294 , 0.74509805]],\n",
              " \n",
              "         [[0.7921569 , 0.84705883, 0.7490196 ],\n",
              "          [0.78039217, 0.8352941 , 0.7372549 ],\n",
              "          [0.78431374, 0.8392157 , 0.7490196 ],\n",
              "          ...,\n",
              "          [0.7176471 , 0.7607843 , 0.69411767],\n",
              "          [0.7607843 , 0.8117647 , 0.74509805],\n",
              "          [0.7490196 , 0.8       , 0.7294118 ]],\n",
              " \n",
              "         ...,\n",
              " \n",
              "         [[0.4117647 , 0.4745098 , 0.36862746],\n",
              "          [0.40784314, 0.47058824, 0.3647059 ],\n",
              "          [0.3882353 , 0.4509804 , 0.3372549 ],\n",
              "          ...,\n",
              "          [0.7372549 , 0.9137255 , 1.        ],\n",
              "          [0.73333335, 0.9098039 , 1.        ],\n",
              "          [0.7529412 , 0.92941177, 1.        ]],\n",
              " \n",
              "         [[0.39607844, 0.44705883, 0.34509805],\n",
              "          [0.39607844, 0.44705883, 0.34509805],\n",
              "          [0.43137255, 0.49019608, 0.3764706 ],\n",
              "          ...,\n",
              "          [0.7294118 , 0.90588236, 0.99607843],\n",
              "          [0.7019608 , 0.8784314 , 0.96862745],\n",
              "          [0.7019608 , 0.88235295, 0.972549  ]],\n",
              " \n",
              "         [[0.40784314, 0.44705883, 0.34901962],\n",
              "          [0.44705883, 0.4862745 , 0.3882353 ],\n",
              "          [0.43529412, 0.4862745 , 0.3764706 ],\n",
              "          ...,\n",
              "          [0.72156864, 0.8980392 , 0.9882353 ],\n",
              "          [0.69803923, 0.8784314 , 0.96862745],\n",
              "          [0.69803923, 0.8784314 , 0.96862745]]],\n",
              " \n",
              " \n",
              "        [[[0.99215686, 0.7882353 , 0.79607844],\n",
              "          [0.9843137 , 0.78039217, 0.7882353 ],\n",
              "          [0.96862745, 0.7647059 , 0.77254903],\n",
              "          ...,\n",
              "          [0.74509805, 0.7607843 , 0.7647059 ],\n",
              "          [0.7607843 , 0.7764706 , 0.78039217],\n",
              "          [0.7058824 , 0.7294118 , 0.7294118 ]],\n",
              " \n",
              "         [[0.98039216, 0.7764706 , 0.78431374],\n",
              "          [0.9764706 , 0.77254903, 0.78039217],\n",
              "          [0.9764706 , 0.77254903, 0.78039217],\n",
              "          ...,\n",
              "          [0.78039217, 0.79607844, 0.8       ],\n",
              "          [0.7490196 , 0.77254903, 0.77254903],\n",
              "          [0.68235296, 0.7058824 , 0.7058824 ]],\n",
              " \n",
              "         [[0.98039216, 0.7764706 , 0.7921569 ],\n",
              "          [0.972549  , 0.76862746, 0.78431374],\n",
              "          [0.9843137 , 0.78039217, 0.79607844],\n",
              "          ...,\n",
              "          [0.7607843 , 0.78431374, 0.7764706 ],\n",
              "          [0.73333335, 0.75686276, 0.7490196 ],\n",
              "          [0.63529414, 0.67058825, 0.65882355]],\n",
              " \n",
              "         ...,\n",
              " \n",
              "         [[0.6313726 , 0.6901961 , 0.6784314 ],\n",
              "          [0.62352943, 0.6862745 , 0.6745098 ],\n",
              "          [0.61960787, 0.68235296, 0.6784314 ],\n",
              "          ...,\n",
              "          [0.64705884, 0.72156864, 0.7058824 ],\n",
              "          [0.6       , 0.6745098 , 0.65882355],\n",
              "          [0.5921569 , 0.6666667 , 0.6509804 ]],\n",
              " \n",
              "         [[0.627451  , 0.6862745 , 0.6745098 ],\n",
              "          [0.6313726 , 0.69411767, 0.68235296],\n",
              "          [0.64705884, 0.70980394, 0.7058824 ],\n",
              "          ...,\n",
              "          [0.64705884, 0.70980394, 0.69803923],\n",
              "          [0.61960787, 0.68235296, 0.67058825],\n",
              "          [0.6156863 , 0.6784314 , 0.6666667 ]],\n",
              " \n",
              "         [[0.63529414, 0.69411767, 0.68235296],\n",
              "          [0.627451  , 0.6901961 , 0.6784314 ],\n",
              "          [0.6431373 , 0.7058824 , 0.7019608 ],\n",
              "          ...,\n",
              "          [0.6392157 , 0.7019608 , 0.6901961 ],\n",
              "          [0.6156863 , 0.6784314 , 0.6666667 ],\n",
              "          [0.6       , 0.6627451 , 0.6509804 ]]],\n",
              " \n",
              " \n",
              "        [[[0.08235294, 0.16078432, 0.19607843],\n",
              "          [0.10588235, 0.1764706 , 0.21568628],\n",
              "          [0.08627451, 0.14901961, 0.2       ],\n",
              "          ...,\n",
              "          [0.11764706, 0.18039216, 0.1764706 ],\n",
              "          [0.11764706, 0.18039216, 0.1764706 ],\n",
              "          [0.10980392, 0.17254902, 0.16862746]],\n",
              " \n",
              "         [[0.09019608, 0.16862746, 0.19607843],\n",
              "          [0.10980392, 0.18039216, 0.21960784],\n",
              "          [0.11372549, 0.18039216, 0.21960784],\n",
              "          ...,\n",
              "          [0.10980392, 0.17254902, 0.16078432],\n",
              "          [0.10196079, 0.16470589, 0.16078432],\n",
              "          [0.12941177, 0.19215687, 0.18039216]],\n",
              " \n",
              "         [[0.10196079, 0.18431373, 0.20392157],\n",
              "          [0.11372549, 0.1882353 , 0.21176471],\n",
              "          [0.10588235, 0.17254902, 0.21176471],\n",
              "          ...,\n",
              "          [0.10588235, 0.17254902, 0.14901961],\n",
              "          [0.10980392, 0.17254902, 0.16078432],\n",
              "          [0.1254902 , 0.19215687, 0.16862746]],\n",
              " \n",
              "         ...,\n",
              " \n",
              "         [[0.09803922, 0.15294118, 0.15294118],\n",
              "          [0.14901961, 0.20392157, 0.20392157],\n",
              "          [0.09019608, 0.15294118, 0.15294118],\n",
              "          ...,\n",
              "          [0.10588235, 0.18039216, 0.16470589],\n",
              "          [0.10980392, 0.17254902, 0.16862746],\n",
              "          [0.07843138, 0.14117648, 0.13725491]],\n",
              " \n",
              "         [[0.10588235, 0.16078432, 0.16078432],\n",
              "          [0.10588235, 0.16078432, 0.16078432],\n",
              "          [0.10980392, 0.17254902, 0.17254902],\n",
              "          ...,\n",
              "          [0.09019608, 0.16470589, 0.14117648],\n",
              "          [0.1254902 , 0.1882353 , 0.1764706 ],\n",
              "          [0.09411765, 0.15686275, 0.14509805]],\n",
              " \n",
              "         [[0.12156863, 0.1764706 , 0.1764706 ],\n",
              "          [0.1254902 , 0.18039216, 0.18039216],\n",
              "          [0.15294118, 0.21568628, 0.21568628],\n",
              "          ...,\n",
              "          [0.08627451, 0.16078432, 0.13725491],\n",
              "          [0.13333334, 0.19607843, 0.18431373],\n",
              "          [0.09803922, 0.16078432, 0.14901961]]],\n",
              " \n",
              " \n",
              "        ...,\n",
              " \n",
              " \n",
              "        [[[0.01176471, 0.56078434, 0.54901963],\n",
              "          [0.01176471, 0.56078434, 0.54901963],\n",
              "          [0.03529412, 0.58431375, 0.5882353 ],\n",
              "          ...,\n",
              "          [0.        , 0.43529412, 0.44313726],\n",
              "          [0.        , 0.47058824, 0.4745098 ],\n",
              "          [0.        , 0.47058824, 0.4745098 ]],\n",
              " \n",
              "         [[0.        , 0.54509807, 0.53333336],\n",
              "          [0.02745098, 0.5764706 , 0.5647059 ],\n",
              "          [0.01568628, 0.5647059 , 0.56078434],\n",
              "          ...,\n",
              "          [0.01176471, 0.4745098 , 0.48235294],\n",
              "          [0.        , 0.4509804 , 0.45490196],\n",
              "          [0.        , 0.47058824, 0.4745098 ]],\n",
              " \n",
              "         [[0.01568628, 0.56078434, 0.54901963],\n",
              "          [0.03921569, 0.58431375, 0.57254905],\n",
              "          [0.03137255, 0.5803922 , 0.5764706 ],\n",
              "          ...,\n",
              "          [0.01568628, 0.4862745 , 0.49019608],\n",
              "          [0.00784314, 0.47843137, 0.48235294],\n",
              "          [0.        , 0.45882353, 0.4627451 ]],\n",
              " \n",
              "         ...,\n",
              " \n",
              "         [[0.5058824 , 0.18039216, 0.21960784],\n",
              "          [0.5294118 , 0.20392157, 0.24313726],\n",
              "          [0.49803922, 0.16862746, 0.21960784],\n",
              "          ...,\n",
              "          [0.00784314, 0.10980392, 0.11372549],\n",
              "          [0.        , 0.09411765, 0.09803922],\n",
              "          [0.02745098, 0.12941177, 0.13333334]],\n",
              " \n",
              "         [[0.5019608 , 0.1764706 , 0.21568628],\n",
              "          [0.5019608 , 0.1764706 , 0.21568628],\n",
              "          [0.5176471 , 0.1882353 , 0.23921569],\n",
              "          ...,\n",
              "          [0.02745098, 0.12156863, 0.12156863],\n",
              "          [0.        , 0.10196079, 0.09803922],\n",
              "          [0.01568628, 0.11764706, 0.11372549]],\n",
              " \n",
              "         [[0.4627451 , 0.13725491, 0.1764706 ],\n",
              "          [0.49803922, 0.17254902, 0.21176471],\n",
              "          [0.48235294, 0.15294118, 0.20392157],\n",
              "          ...,\n",
              "          [0.03137255, 0.1254902 , 0.1254902 ],\n",
              "          [0.03137255, 0.13333334, 0.12941177],\n",
              "          [0.00784314, 0.10980392, 0.10588235]]],\n",
              " \n",
              " \n",
              "        [[[0.7882353 , 0.827451  , 0.83137256],\n",
              "          [0.7607843 , 0.8       , 0.80784315],\n",
              "          [0.74509805, 0.7607843 , 0.79607844],\n",
              "          ...,\n",
              "          [0.92941177, 0.91764706, 0.85882354],\n",
              "          [0.9098039 , 0.9019608 , 0.8509804 ],\n",
              "          [0.9254902 , 0.92941177, 0.8745098 ]],\n",
              " \n",
              "         [[0.7490196 , 0.78431374, 0.78039217],\n",
              "          [0.75686276, 0.7882353 , 0.79607844],\n",
              "          [0.74509805, 0.7607843 , 0.79607844],\n",
              "          ...,\n",
              "          [0.9607843 , 0.92941177, 0.8862745 ],\n",
              "          [0.9490196 , 0.93333334, 0.8862745 ],\n",
              "          [0.94509804, 0.92941177, 0.88235295]],\n",
              " \n",
              "         [[0.7647059 , 0.7882353 , 0.77254903],\n",
              "          [0.7647059 , 0.7882353 , 0.7882353 ],\n",
              "          [0.75686276, 0.77254903, 0.80784315],\n",
              "          ...,\n",
              "          [0.92156863, 0.8666667 , 0.83137256],\n",
              "          [0.9607843 , 0.9098039 , 0.8745098 ],\n",
              "          [0.91764706, 0.8784314 , 0.8392157 ]],\n",
              " \n",
              "         ...,\n",
              " \n",
              "         [[0.23137255, 0.12156863, 0.10980392],\n",
              "          [0.21176471, 0.10196079, 0.09019608],\n",
              "          [0.2627451 , 0.14509805, 0.14509805],\n",
              "          ...,\n",
              "          [0.57254905, 0.42745098, 0.40392157],\n",
              "          [0.6431373 , 0.49803922, 0.4745098 ],\n",
              "          [0.654902  , 0.5176471 , 0.49411765]],\n",
              " \n",
              "         [[0.22352941, 0.10980392, 0.09411765],\n",
              "          [0.23137255, 0.11764706, 0.10196079],\n",
              "          [0.24313726, 0.1254902 , 0.11764706],\n",
              "          ...,\n",
              "          [0.5647059 , 0.41960785, 0.39607844],\n",
              "          [0.60784316, 0.45882353, 0.44705883],\n",
              "          [0.6039216 , 0.46666667, 0.4509804 ]],\n",
              " \n",
              "         [[0.20392157, 0.09019608, 0.07450981],\n",
              "          [0.20392157, 0.09019608, 0.07450981],\n",
              "          [0.20784314, 0.09019608, 0.08235294],\n",
              "          ...,\n",
              "          [0.5803922 , 0.43529412, 0.4117647 ],\n",
              "          [0.63529414, 0.4862745 , 0.48235294],\n",
              "          [0.654902  , 0.5176471 , 0.50980395]]],\n",
              " \n",
              " \n",
              "        [[[0.        , 0.00392157, 0.        ],\n",
              "          [0.        , 0.00392157, 0.        ],\n",
              "          [0.00784314, 0.01568628, 0.        ],\n",
              "          ...,\n",
              "          [0.08235294, 0.03529412, 0.        ],\n",
              "          [0.08627451, 0.03137255, 0.        ],\n",
              "          [0.10588235, 0.04313726, 0.        ]],\n",
              " \n",
              "         [[0.        , 0.00392157, 0.        ],\n",
              "          [0.        , 0.00392157, 0.        ],\n",
              "          [0.        , 0.00392157, 0.        ],\n",
              "          ...,\n",
              "          [0.06666667, 0.02745098, 0.        ],\n",
              "          [0.11372549, 0.06666667, 0.01176471],\n",
              "          [0.07450981, 0.02352941, 0.        ]],\n",
              " \n",
              "         [[0.        , 0.        , 0.        ],\n",
              "          [0.        , 0.        , 0.        ],\n",
              "          [0.01960784, 0.02745098, 0.00784314],\n",
              "          ...,\n",
              "          [0.02352941, 0.00392157, 0.        ],\n",
              "          [0.09019608, 0.05490196, 0.        ],\n",
              "          [0.18039216, 0.13725491, 0.06666667]],\n",
              " \n",
              "         ...,\n",
              " \n",
              "         [[0.03921569, 0.07058824, 0.        ],\n",
              "          [0.07450981, 0.10588235, 0.02352941],\n",
              "          [0.00392157, 0.01960784, 0.        ],\n",
              "          ...,\n",
              "          [0.        , 0.00784314, 0.        ],\n",
              "          [0.        , 0.01568628, 0.        ],\n",
              "          [0.        , 0.00784314, 0.        ]],\n",
              " \n",
              "         [[0.07450981, 0.10196079, 0.03137255],\n",
              "          [0.08627451, 0.11372549, 0.04313726],\n",
              "          [0.00784314, 0.01960784, 0.        ],\n",
              "          ...,\n",
              "          [0.        , 0.00784314, 0.        ],\n",
              "          [0.        , 0.00784314, 0.        ],\n",
              "          [0.        , 0.00392157, 0.        ]],\n",
              " \n",
              "         [[0.05490196, 0.08235294, 0.01176471],\n",
              "          [0.06666667, 0.09411765, 0.03137255],\n",
              "          [0.        , 0.00784314, 0.        ],\n",
              "          ...,\n",
              "          [0.        , 0.01176471, 0.        ],\n",
              "          [0.00392157, 0.00392157, 0.00392157],\n",
              "          [0.        , 0.        , 0.        ]]]], dtype=float32),\n",
              " (array([[0, 1, 0, 0, 0, 0],\n",
              "         [0, 0, 0, 0, 0, 1],\n",
              "         [0, 0, 0, 0, 1, 0],\n",
              "         [0, 0, 0, 1, 0, 0],\n",
              "         [0, 0, 0, 0, 0, 1],\n",
              "         [0, 0, 0, 0, 0, 1],\n",
              "         [0, 0, 0, 0, 0, 1],\n",
              "         [0, 0, 0, 0, 0, 1],\n",
              "         [0, 0, 0, 0, 1, 0],\n",
              "         [0, 0, 0, 0, 0, 1],\n",
              "         [1, 0, 0, 0, 0, 0],\n",
              "         [0, 0, 0, 1, 0, 0],\n",
              "         [1, 0, 0, 0, 0, 0],\n",
              "         [0, 0, 0, 1, 0, 0],\n",
              "         [1, 0, 0, 0, 0, 0],\n",
              "         [0, 1, 0, 0, 0, 0],\n",
              "         [0, 0, 0, 0, 1, 0],\n",
              "         [0, 0, 0, 0, 0, 1],\n",
              "         [0, 1, 0, 0, 0, 0],\n",
              "         [0, 1, 0, 0, 0, 0],\n",
              "         [0, 0, 1, 0, 0, 0],\n",
              "         [0, 0, 1, 0, 0, 0],\n",
              "         [0, 0, 1, 0, 0, 0],\n",
              "         [0, 0, 0, 0, 0, 1],\n",
              "         [0, 1, 0, 0, 0, 0],\n",
              "         [1, 0, 0, 0, 0, 0],\n",
              "         [0, 0, 1, 0, 0, 0],\n",
              "         [0, 0, 0, 0, 1, 0],\n",
              "         [0, 1, 0, 0, 0, 0],\n",
              "         [0, 0, 0, 0, 0, 1],\n",
              "         [1, 0, 0, 0, 0, 0],\n",
              "         [0, 1, 0, 0, 0, 0]], dtype=uint64),\n",
              "  array([[0.1738 , 0.1973 , 0.916  , 0.76   ],\n",
              "         [0.4382 , 0.11456, 1.     , 0.7593 ],\n",
              "         [0.2085 , 0.01988, 0.816  , 0.931  ],\n",
              "         [0.4204 , 0.0158 , 0.547  , 0.3848 ],\n",
              "         [0.0943 , 0.1912 , 0.757  , 0.4521 ],\n",
              "         [0.149  , 0.02994, 0.937  , 0.9624 ],\n",
              "         [0.1147 , 0.3135 , 0.934  , 0.758  ],\n",
              "         [0.4438 , 0.1758 , 0.782  , 0.826  ],\n",
              "         [0.0209 , 0.2727 , 0.971  , 0.87   ],\n",
              "         [0.2289 , 0.0892 , 0.769  , 0.652  ],\n",
              "         [0.1779 , 0.09326, 0.824  , 0.7007 ],\n",
              "         [0.0627 , 0.4224 , 0.4468 , 0.796  ],\n",
              "         [0.4255 , 0.2798 , 0.9453 , 0.918  ],\n",
              "         [0.4204 , 0.615  , 0.547  , 0.9844 ],\n",
              "         [0.2798 , 0.05453, 0.918  , 0.574  ],\n",
              "         [0.0841 , 0.2401 , 0.826  , 0.8027 ],\n",
              "         [0.0209 , 0.2727 , 0.971  , 0.87   ],\n",
              "         [0.1065 , 0.2686 , 0.4878 , 0.4949 ],\n",
              "         [0.2013 , 0.653  , 0.4072 , 0.8345 ],\n",
              "         [0.12286, 0.2401 , 0.543  , 0.6377 ],\n",
              "         [0.167  , 0.     , 0.865  , 0.6426 ],\n",
              "         [0.0943 , 0.1218 , 0.61   , 0.593  ],\n",
              "         [0.00464, 0.2573 , 0.9854 , 0.901  ],\n",
              "         [0.0678 , 0.4888 , 0.618  , 0.8984 ],\n",
              "         [0.5947 , 0.1945 , 1.     , 0.6157 ],\n",
              "         [0.     , 0.21   , 0.8384 , 1.     ],\n",
              "         [0.2512 , 0.3542 , 0.504  , 0.9697 ],\n",
              "         [0.0474 , 0.09937, 0.9365 , 0.888  ],\n",
              "         [0.708  , 0.5234 , 0.8364 , 0.66   ],\n",
              "         [0.3818 , 0.10144, 0.932  , 0.511  ],\n",
              "         [0.077  , 0.2094 , 0.88   , 1.     ],\n",
              "         [0.4817 , 0.6333 , 0.5835 , 0.752  ]], dtype=float16)))"
            ]
          },
          "metadata": {},
          "execution_count": 10
        }
      ]
    },
    {
      "cell_type": "markdown",
      "source": [
        "***\n",
        "### Build and Train the model"
      ],
      "metadata": {
        "id": "pCrossm86sDK"
      }
    },
    {
      "cell_type": "code",
      "source": [
        "# build model architecture using Functional API\n",
        "def build_model(): \n",
        "    input_layer = Input(shape=(150,150,3))\n",
        "    vgg = VGG16(include_top=False)(input_layer)\n",
        "\n",
        "    # Classification branch  \n",
        "    b1 = GlobalMaxPooling2D()(vgg)\n",
        "    class1 = Dense(2048, activation='relu')(b1)\n",
        "    class2 = Dense(8, activation='softmax')(class1)\n",
        "    \n",
        "    # Bounding box branch\n",
        "    b2 = GlobalMaxPooling2D()(vgg)\n",
        "    regress1 = Dense(2048, activation='relu')(b2)\n",
        "    regress2 = Dense(4, activation='sigmoid')(regress1)\n",
        "    \n",
        "    objectdetection = Model(inputs=input_layer, outputs=[class2, regress2])\n",
        "    return objectdetection"
      ],
      "metadata": {
        "id": "An49tfnScdHX"
      },
      "execution_count": null,
      "outputs": []
    },
    {
      "cell_type": "code",
      "source": [
        "objectdetection = build_model()"
      ],
      "metadata": {
        "id": "GL6MFY1IcdKB"
      },
      "execution_count": null,
      "outputs": []
    },
    {
      "cell_type": "code",
      "source": [
        "# learning rate decays by 75% of prev rate per epoch to prevent overfitting\n",
        "lr_decay = (1./0.75 -1)/len(train)"
      ],
      "metadata": {
        "id": "HM4pZqL0cdMh"
      },
      "execution_count": null,
      "outputs": []
    },
    {
      "cell_type": "code",
      "source": [
        "# low learning rate since transfer learning is used\n",
        "opt = tf.keras.optimizers.legacy.Adam(learning_rate=0.0001, decay=lr_decay)"
      ],
      "metadata": {
        "id": "NkPPk9nyct2X"
      },
      "execution_count": null,
      "outputs": []
    },
    {
      "cell_type": "code",
      "source": [
        "# custom function to calculate bounding box IoU metric\n",
        "def iou(y_true, y_pred):\n",
        "    AoG = tf.abs(tf.transpose(y_true)[2] - tf.transpose(y_true)[0] + 1) * tf.abs(tf.transpose(y_true)[3] - tf.transpose(y_true)[1] + 1)\n",
        "    AoP = tf.abs(tf.transpose(y_pred)[2] - tf.transpose(y_pred)[0] + 1) * tf.abs(tf.transpose(y_pred)[3] - tf.transpose(y_pred)[1] + 1)\n",
        "\n",
        "    overlap_0 = tf.maximum(tf.transpose(y_true)[0], tf.transpose(y_pred)[0])\n",
        "    overlap_1 = tf.maximum(tf.transpose(y_true)[1], tf.transpose(y_pred)[1])\n",
        "    overlap_2 = tf.minimum(tf.transpose(y_true)[2], tf.transpose(y_pred)[2])\n",
        "    overlap_3 = tf.minimum(tf.transpose(y_true)[3], tf.transpose(y_pred)[3])\n",
        "\n",
        "    intersection = (overlap_2 - overlap_0 + 1) * (overlap_3 - overlap_1 + 1)\n",
        "    union = AoG + AoP - intersection\n",
        "    iou = intersection / union\n",
        "    iou = tf.clip_by_value(iou, 0.0 + tf.keras.backend.epsilon(), 1.0 - tf.keras.backend.epsilon())\n",
        "\n",
        "    return iou "
      ],
      "metadata": {
        "id": "Z0Dr2m0Bct4_"
      },
      "execution_count": null,
      "outputs": []
    },
    {
      "cell_type": "code",
      "source": [
        "# helper function to calculate the running mean IoU of each training batch\n",
        "def mean():\n",
        "    count = 0\n",
        "    mean = 0\n",
        "    \n",
        "    def inner(value):\n",
        "        nonlocal count, mean\n",
        "        count += 1\n",
        "        mean += (value - mean) / count\n",
        "        return mean\n",
        "    \n",
        "    return inner"
      ],
      "metadata": {
        "id": "ASAgjjB9ct7n"
      },
      "execution_count": null,
      "outputs": []
    },
    {
      "cell_type": "code",
      "source": [
        "# subclassing the Keras Model() class\n",
        "class OD(Model): \n",
        "    # to initialize with custom metrics\n",
        "    def __init__(self, odmodel,  **kwargs): \n",
        "        super().__init__(**kwargs)\n",
        "        self.model = odmodel\n",
        "        self.acc_metric = tf.keras.metrics.Accuracy(name=\"acc\")\n",
        "        self.iou = iou\n",
        "        \n",
        "    # to compile with customized loss functions    \n",
        "    def compile(self, opt, classloss, localizationloss, **kwargs):\n",
        "        super().compile(**kwargs)\n",
        "        self.opt = opt\n",
        "        self.closs = classloss\n",
        "        self.lloss = localizationloss\n",
        "        \n",
        "    # to train model\n",
        "    def train_step(self, batch, **kwargs): \n",
        "        # take one batch\n",
        "        X, y = batch\n",
        "        iou_result = 0.0\n",
        "        \n",
        "        with tf.GradientTape() as tape: \n",
        "            # make predictions\n",
        "            classes, bbox = self.model(X, training=True)\n",
        "\n",
        "            # calculate losses\n",
        "            batch_classloss = self.closs(y[0], classes)\n",
        "            batch_localizationloss = self.lloss(tf.cast(y[1], tf.float32), bbox)\n",
        "            total_loss = batch_localizationloss+0.5*batch_classloss\n",
        "            grad = tape.gradient(total_loss, self.model.trainable_variables)\n",
        "            \n",
        "        # apply gradients\n",
        "        opt.apply_gradients(zip(grad, self.model.trainable_variables))\n",
        "        \n",
        "        # calculate metrics\n",
        "        self.acc_metric.update_state(tf.argmax(y[0], 1), tf.argmax(classes, 1))\n",
        "        iou_result = iou(tf.cast(y[1], tf.float32), bbox)\n",
        "        mean_iou = mean()\n",
        "        \n",
        "        # show loss and metrics while training to monitor progress\n",
        "        return {\"total loss\":total_loss, \"accuracy\":self.acc_metric.result(), \"mean iou\":mean_iou(iou_result)}\n",
        "    \n",
        "    # to test model and for use with validation sets\n",
        "    def test_step(self, batch, **kwargs): \n",
        "        # take one batch\n",
        "        X, y = batch\n",
        "        iou_result=0.0\n",
        "        \n",
        "        # make predictions\n",
        "        classes, bbox = self.model(X, training=False)\n",
        "\n",
        "        # calculate losses\n",
        "        batch_classloss = self.closs(y[0], classes)\n",
        "        batch_localizationloss = self.lloss(tf.cast(y[1], tf.float32), bbox)\n",
        "        total_loss = batch_localizationloss+0.5*batch_classloss\n",
        "        \n",
        "        # calculate metrics\n",
        "        self.acc_metric.update_state(tf.argmax(y[0], 1), tf.argmax(classes, 1))\n",
        "        iou_result = iou(tf.cast(y[1], tf.float32), bbox)\n",
        "        mean_iou = mean()\n",
        "        \n",
        "        # show results\n",
        "        return {\"total loss\":total_loss, \"accuracy\":self.acc_metric.result(), \"mean iou\":mean_iou(iou_result)}\n",
        "    \n",
        "    # to reinitialize metrics after each epoch\n",
        "    @property\n",
        "    def metrics(self):\n",
        "        return [self.acc_metric] \n",
        "        \n",
        "    # to make predictions with trained model\n",
        "    def call(self, X, **kwargs): \n",
        "        return self.model(X, **kwargs)"
      ],
      "metadata": {
        "id": "J0ngaXFNcdPk"
      },
      "execution_count": null,
      "outputs": []
    },
    {
      "cell_type": "code",
      "source": [
        "model = OD(objectdetection)"
      ],
      "metadata": {
        "id": "10RQLDwGd-6x"
      },
      "execution_count": null,
      "outputs": []
    },
    {
      "cell_type": "code",
      "source": [
        "# compile model\n",
        "model.compile(opt, \n",
        "              tf.keras.losses.CategoricalCrossentropy(), \n",
        "              tf.keras.losses.Huber())"
      ],
      "metadata": {
        "id": "EbjifDp1d-9H"
      },
      "execution_count": null,
      "outputs": []
    },
    {
      "cell_type": "code",
      "source": [
        "early_stop = EarlyStopping(monitor='val_accuracy', patience=4)"
      ],
      "metadata": {
        "id": "ynDUpYxcd_BX"
      },
      "execution_count": null,
      "outputs": []
    },
    {
      "cell_type": "code",
      "source": [
        "# train model\n",
        "hist = model.fit(train, epochs=30, validation_data=val, callbacks=[early_stop])"
      ],
      "metadata": {
        "id": "cqqW3QRId_Eo"
      },
      "execution_count": null,
      "outputs": []
    },
    {
      "cell_type": "code",
      "source": [
        "# helper method to plot graph for mean IoU\n",
        "histmeannparray = np.array(hist.history['mean iou'])\n",
        "histvalmeannparray = np.array(hist.history['val_mean iou'])\n",
        "meanlist = []\n",
        "valmeanlist = []\n",
        "\n",
        "for x in range(0,24):\n",
        "    arr1 = histmeannparray[x]\n",
        "    arr2 = histvalmeannparray[x]\n",
        "    means = np.mean(arr1)\n",
        "    valmeans = np.mean(arr2)\n",
        "    meanlist.append(means)\n",
        "    valmeanlist.append(valmeans)"
      ],
      "metadata": {
        "id": "fCGtOL7Kd_J3"
      },
      "execution_count": null,
      "outputs": []
    },
    {
      "cell_type": "code",
      "source": [
        "fig, ax = plt.subplots(ncols=3, figsize=(15,5))\n",
        "\n",
        "ax[0].plot(hist.history['total loss'], color='teal', label='loss')\n",
        "ax[0].plot(hist.history['val_total loss'], color='orange', label='val loss')\n",
        "ax[0].title.set_text('Loss')\n",
        "ax[0].legend()\n",
        "\n",
        "ax[1].plot(hist.history['accuracy'], color='teal', label='acc')\n",
        "ax[1].plot(hist.history['val_accuracy'], color='orange', label='val acc')\n",
        "ax[1].title.set_text('Accuracy')\n",
        "ax[1].legend()\n",
        "\n",
        "ax[2].plot(meanlist, color='teal', label='mean IoU')\n",
        "ax[2].plot(valmeanlist, color='orange', label='val mean IoU')\n",
        "ax[2].title.set_text('Mean IoU')\n",
        "ax[2].legend()\n",
        "\n",
        "plt.show()"
      ],
      "metadata": {
        "colab": {
          "base_uri": "https://localhost:8080/",
          "height": 454
        },
        "id": "02L1bwzEd_Mv",
        "outputId": "c63ed22d-6264-49c7-e7b9-ff4975ac1f4d"
      },
      "execution_count": null,
      "outputs": [
        {
          "output_type": "display_data",
          "data": {
            "text/plain": [
              "<Figure size 1500x500 with 3 Axes>"
            ],
            "image/png": "[encoded data removed]"
          },
          "metadata": {}
        }
      ]
    },
    {
      "cell_type": "markdown",
      "source": [
        "***\n",
        "### Evaluate model"
      ],
      "metadata": {
        "id": "6NJoLz6j77IB"
      }
    },
    {
      "cell_type": "code",
      "source": [
        "from sklearn import metrics\n",
        "import seaborn as sns"
      ],
      "metadata": {
        "id": "VGqLYqVegCAZ"
      },
      "execution_count": null,
      "outputs": []
    },
    {
      "cell_type": "code",
      "source": [
        "results = model.evaluate(test)"
      ],
      "metadata": {
        "colab": {
          "base_uri": "https://localhost:8080/"
        },
        "id": "Y5GLwxClgCDD",
        "outputId": "477ba81c-e393-4ee7-b8c1-e55d0908ebb6"
      },
      "execution_count": null,
      "outputs": [
        {
          "output_type": "stream",
          "name": "stdout",
          "text": [
            "1/1 [==============================] - 35s 35s/step - total loss: 0.5169 - accuracy: 0.7344 - mean iou: 0.6662\n"
          ]
        }
      ]
    },
    {
      "cell_type": "code",
      "source": [
        "print(\"test accuracy:\", results[0])\n",
        "print(\"test mean IoU:\", results[1].mean())"
      ],
      "metadata": {
        "colab": {
          "base_uri": "https://localhost:8080/"
        },
        "id": "jy60WUaAgCFu",
        "outputId": "5336f320-1886-478d-ca51-b04712e71ddd"
      },
      "execution_count": null,
      "outputs": [
        {
          "output_type": "stream",
          "name": "stdout",
          "text": [
            "test accuracy: 0.734375\n",
            "test mean IoU: 0.6661994\n"
          ]
        }
      ]
    },
    {
      "cell_type": "code",
      "source": [
        "testimages, testtruelabels = test.as_numpy_iterator().next()"
      ],
      "metadata": {
        "id": "DusGcKY0gc_B"
      },
      "execution_count": null,
      "outputs": []
    },
    {
      "cell_type": "code",
      "source": [
        "pred=model.predict(testimages)"
      ],
      "metadata": {
        "id": "9ty4m_KJgdBt"
      },
      "execution_count": null,
      "outputs": []
    },
    {
      "cell_type": "code",
      "source": [
        "cm = metrics.confusion_matrix(np.argmax(testtruelabels[0], axis=1), np.argmax(pred[0], axis=1))"
      ],
      "metadata": {
        "id": "zOoON28JgdEG"
      },
      "execution_count": null,
      "outputs": []
    },
    {
      "cell_type": "code",
      "source": [
        "plt.figure(figsize=(6,6))\n",
        "sns.heatmap(cm, annot=True, fmt='0.3f', linewidth=0.5, square=True, cbar=False, cmap='Blues')\n",
        "plt.ylabel('Actual Values')\n",
        "plt.xlabel('Predicted Values')\n",
        "plt.show()"
      ],
      "metadata": {
        "colab": {
          "base_uri": "https://localhost:8080/",
          "height": 542
        },
        "id": "Sc5yKUHVgdGu",
        "outputId": "27f4048e-0b33-4c23-8ec8-67a9edd4a128"
      },
      "execution_count": null,
      "outputs": [
        {
          "output_type": "display_data",
          "data": {
            "text/plain": [
              "<Figure size 600x600 with 1 Axes>"
            ],
            "image/png": "[encoded data removed]"
          },
          "metadata": {}
        }
      ]
    },
    {
      "cell_type": "code",
      "source": [
        "print(metrics.classification_report(np.argmax(testtruelabels[0], axis=1), np.argmax(pred[0], axis=1)))"
      ],
      "metadata": {
        "id": "VnwuPDNmgdJU"
      },
      "execution_count": null,
      "outputs": []
    }
  ]
}