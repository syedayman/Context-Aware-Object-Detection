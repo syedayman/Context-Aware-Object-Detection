{
  "nbformat": 4,
  "nbformat_minor": 0,
  "metadata": {
    "colab": {
      "provenance": []
    },
    "kernelspec": {
      "name": "python3",
      "display_name": "Python 3"
    },
    "language_info": {
      "name": "python"
    },
    "accelerator": "GPU",
    "gpuClass": "standard"
  },
  "cells": [
    {
      "cell_type": "markdown",
      "source": [
        "# Context-Aware Model 2"
      ],
      "metadata": {
        "id": "sHYh9FDU094u"
      }
    },
    {
      "cell_type": "markdown",
      "source": [
        "***\n",
        "### Install and Import libraries"
      ],
      "metadata": {
        "id": "K05Y62bo0-Hb"
      }
    },
    {
      "cell_type": "code",
      "execution_count": null,
      "metadata": {
        "id": "d5lQ7nrzYxv0"
      },
      "outputs": [],
      "source": [
        "!pip install tensorflow\n",
        "!pip install opencv-python\n",
        "!pip install matplotlib"
      ]
    },
    {
      "cell_type": "code",
      "source": [
        "import tensorflow as tf\n",
        "import numpy as np\n",
        "import json\n",
        "from matplotlib import pyplot as plt\n",
        "import os\n",
        "import cv2"
      ],
      "metadata": {
        "id": "o250d22sY6UN"
      },
      "execution_count": null,
      "outputs": []
    },
    {
      "cell_type": "code",
      "source": [
        "from tensorflow.keras.models import Sequential\n",
        "from tensorflow.keras.layers import *\n",
        "from tensorflow.keras.models import Model\n",
        "from keras.applications.vgg16 import VGG16\n",
        "from tensorflow.keras.models import load_model\n",
        "from tensorflow.keras.callbacks import EarlyStopping"
      ],
      "metadata": {
        "id": "b36zKKGqZCOI"
      },
      "execution_count": null,
      "outputs": []
    },
    {
      "cell_type": "markdown",
      "source": [
        "***\n",
        "### Load Images and Labels Dataset and Scene Classification Model"
      ],
      "metadata": {
        "id": "aPhil8Cw1Jp3"
      }
    },
    {
      "cell_type": "code",
      "source": [
        "# helper function to load images \n",
        "def load_JPG(x): \n",
        "    byte_img = tf.io.read_file(x)\n",
        "    img = tf.io.decode_jpeg(byte_img)\n",
        "    return img"
      ],
      "metadata": {
        "id": "hXs4iU6jZPkh"
      },
      "execution_count": null,
      "outputs": []
    },
    {
      "cell_type": "code",
      "source": [
        "# helper function to load labels\n",
        "def load_labels(label_path):\n",
        "    with open(label_path.numpy(), 'r', encoding = \"utf-8\") as f:\n",
        "        label = json.load(f)\n",
        "        \n",
        "    return label['class'], label['bbox'], label['scene']"
      ],
      "metadata": {
        "id": "yK5BWhBFZQOC"
      },
      "execution_count": null,
      "outputs": []
    },
    {
      "cell_type": "code",
      "source": [
        "# load trained scene classification model\n",
        "scene_model = load_model(\"/content/scenerecognition.h5\")"
      ],
      "metadata": {
        "id": "HYd1Eb7hWUD_"
      },
      "execution_count": null,
      "outputs": []
    },
    {
      "cell_type": "code",
      "source": [
        "# load images and labels from local machine \n",
        "train_images = tf.data.Dataset.list_files(\"/content/augdata/train/images/*.jpg\", shuffle=False)\n",
        "val_images = tf.data.Dataset.list_files(\"/content/augdata/val/images/*.jpg\", shuffle=False)\n",
        "test_images = tf.data.Dataset.list_files(\"/content/augdata/test/images/*.jpg\", shuffle=False)\n",
        "\n",
        "train_labels = tf.data.Dataset.list_files(\"/content/augdata/train/labels/*.json\", shuffle=False)\n",
        "test_labels = tf.data.Dataset.list_files(\"/content/augdata/test/labels/*.json\", shuffle=False)\n",
        "val_labels = tf.data.Dataset.list_files(\"/content/augdata/val/labels/*.json\", shuffle=False)\n",
        "\n",
        "# preprocess images and labels \n",
        "train_images = train_images.map(load_image)\n",
        "train_images = train_images.map(lambda x: tf.image.resize(x, (150,150)))\n",
        "train_images = train_images.map(lambda x: x/255)\n",
        "train_labels = train_labels.map(lambda x: tf.py_function(load_labels, [x], [tf.uint64, tf.float16, tf.uint64]))\n",
        "\n",
        "test_images = test_images.map(load_image)\n",
        "test_images = test_images.map(lambda x: tf.image.resize(x, (150,150)))\n",
        "test_images = test_images.map(lambda x: x/255)\n",
        "test_labels = test_labels.map(lambda x: tf.py_function(load_labels, [x], [tf.uint64, tf.float16, tf.uint64]))\n",
        "\n",
        "val_images = val_images.map(load_image)\n",
        "val_images = val_images.map(lambda x: tf.image.resize(x, (150,150)))\n",
        "val_images = val_images.map(lambda x: x/255)\n",
        "val_labels = val_labels.map(lambda x: tf.py_function(load_labels, [x], [tf.uint64, tf.float16, tf.uint64]))"
      ],
      "metadata": {
        "id": "Sug7_JXVZS0T"
      },
      "execution_count": null,
      "outputs": []
    },
    {
      "cell_type": "code",
      "source": [
        "# combine images and lables into one Dataset object\n",
        "train = tf.data.Dataset.zip((train_images, train_labels))\n",
        "train = train.shuffle(2000)\n",
        "train = train.batch(32)\n",
        "\n",
        "test = tf.data.Dataset.zip((test_images, test_labels))\n",
        "test = test.shuffle(1000)\n",
        "test = test.batch(704) # test batch uses one batch to prevent using batch averages for testing results\n",
        "\n",
        "val = tf.data.Dataset.zip((val_images, val_labels))\n",
        "val = val.shuffle(1000)\n",
        "val = val.batch(32)"
      ],
      "metadata": {
        "id": "syOhp9dbcXFw"
      },
      "execution_count": null,
      "outputs": []
    },
    {
      "cell_type": "code",
      "source": [
        "# to view the Dataset object\n",
        "train.as_numpy_iterator().next()"
      ],
      "metadata": {
        "colab": {
          "base_uri": "https://localhost:8080/"
        },
        "id": "AbRct0XScc_q",
        "outputId": "fc7f8ee1-2036-4884-f832-7a7fbfc400c7"
      },
      "execution_count": null,
      "outputs": [
        {
          "output_type": "execute_result",
          "data": {
            "text/plain": [
              "(array([[[[0.05490196, 0.03529412, 0.05098039],\n",
              "          [0.05098039, 0.03137255, 0.04705882],\n",
              "          [0.03137255, 0.02352941, 0.03529412],\n",
              "          ...,\n",
              "          [0.0627451 , 0.04313726, 0.13333334],\n",
              "          [0.05098039, 0.03137255, 0.10980392],\n",
              "          [0.03921569, 0.03137255, 0.08627451]],\n",
              " \n",
              "         [[0.05098039, 0.03137255, 0.04705882],\n",
              "          [0.05098039, 0.03137255, 0.04705882],\n",
              "          [0.03921569, 0.03137255, 0.04313726],\n",
              "          ...,\n",
              "          [0.04705882, 0.02745098, 0.11372549],\n",
              "          [0.04705882, 0.03921569, 0.09411765],\n",
              "          [0.04705882, 0.03921569, 0.08235294]],\n",
              " \n",
              "         [[0.04313726, 0.02352941, 0.03921569],\n",
              "          [0.04705882, 0.02745098, 0.04313726],\n",
              "          [0.03921569, 0.03137255, 0.04313726],\n",
              "          ...,\n",
              "          [0.04705882, 0.03137255, 0.08627451],\n",
              "          [0.03137255, 0.02745098, 0.05882353],\n",
              "          [0.02352941, 0.01960784, 0.03921569]],\n",
              " \n",
              "         ...,\n",
              " \n",
              "         [[0.0627451 , 0.02352941, 0.11764706],\n",
              "          [0.05490196, 0.01568628, 0.11372549],\n",
              "          [0.07058824, 0.02745098, 0.14509805],\n",
              "          ...,\n",
              "          [0.02352941, 0.01176471, 0.1882353 ],\n",
              "          [0.08235294, 0.05882353, 0.30980393],\n",
              "          [0.18431373, 0.15294118, 0.4392157 ]],\n",
              " \n",
              "         [[0.07450981, 0.02352941, 0.1254902 ],\n",
              "          [0.0627451 , 0.02352941, 0.12941177],\n",
              "          [0.07450981, 0.03137255, 0.14901961],\n",
              "          ...,\n",
              "          [0.04705882, 0.02745098, 0.24705882],\n",
              "          [0.15686275, 0.1254902 , 0.41960785],\n",
              "          [0.20784314, 0.17254902, 0.49803922]],\n",
              " \n",
              "         [[0.08235294, 0.03137255, 0.13333334],\n",
              "          [0.09019608, 0.03921569, 0.14901961],\n",
              "          [0.08627451, 0.04313726, 0.16078432],\n",
              "          ...,\n",
              "          [0.07843138, 0.05490196, 0.29803923],\n",
              "          [0.21176471, 0.1764706 , 0.49411765],\n",
              "          [0.22745098, 0.1882353 , 0.5372549 ]]],\n",
              " \n",
              " \n",
              "        [[[0.41960785, 0.5568628 , 0.8235294 ],\n",
              "          [0.41960785, 0.5568628 , 0.8235294 ],\n",
              "          [0.42352942, 0.56078434, 0.827451  ],\n",
              "          ...,\n",
              "          [0.5294118 , 0.5882353 , 0.84313726],\n",
              "          [0.5254902 , 0.58431375, 0.8392157 ],\n",
              "          [0.5254902 , 0.58431375, 0.8392157 ]],\n",
              " \n",
              "         [[0.43137255, 0.56078434, 0.83137256],\n",
              "          [0.43137255, 0.56078434, 0.83137256],\n",
              "          [0.43137255, 0.56078434, 0.83137256],\n",
              "          ...,\n",
              "          [0.5254902 , 0.5882353 , 0.83137256],\n",
              "          [0.5294118 , 0.58431375, 0.83137256],\n",
              "          [0.52156866, 0.58431375, 0.827451  ]],\n",
              " \n",
              "         [[0.44705883, 0.5686275 , 0.83137256],\n",
              "          [0.4509804 , 0.57254905, 0.8352941 ],\n",
              "          [0.4509804 , 0.57254905, 0.8352941 ],\n",
              "          ...,\n",
              "          [0.54509807, 0.6       , 0.8392157 ],\n",
              "          [0.54901963, 0.5921569 , 0.8352941 ],\n",
              "          [0.5411765 , 0.59607846, 0.8352941 ]],\n",
              " \n",
              "         ...,\n",
              " \n",
              "         [[0.70980394, 0.5058824 , 0.5137255 ],\n",
              "          [0.61960787, 0.41568628, 0.42352942],\n",
              "          [0.5764706 , 0.37254903, 0.38039216],\n",
              "          ...,\n",
              "          [0.8235294 , 0.6431373 , 0.654902  ],\n",
              "          [0.8352941 , 0.654902  , 0.6666667 ],\n",
              "          [0.78431374, 0.6039216 , 0.6156863 ]],\n",
              " \n",
              "         [[0.8235294 , 0.62352943, 0.61960787],\n",
              "          [0.7921569 , 0.5921569 , 0.5882353 ],\n",
              "          [0.84313726, 0.6431373 , 0.6392157 ],\n",
              "          ...,\n",
              "          [0.79607844, 0.6156863 , 0.627451  ],\n",
              "          [0.81960785, 0.6392157 , 0.6509804 ],\n",
              "          [0.7882353 , 0.60784316, 0.61960787]],\n",
              " \n",
              "         [[0.7647059 , 0.5647059 , 0.56078434],\n",
              "          [0.8156863 , 0.6156863 , 0.6117647 ],\n",
              "          [0.79607844, 0.59607846, 0.5921569 ],\n",
              "          ...,\n",
              "          [0.80784315, 0.627451  , 0.6392157 ],\n",
              "          [0.7882353 , 0.60784316, 0.61960787],\n",
              "          [0.75686276, 0.5764706 , 0.5882353 ]]],\n",
              " \n",
              " \n",
              "        [[[0.11372549, 0.21176471, 0.36862746],\n",
              "          [0.12941177, 0.21960784, 0.38039216],\n",
              "          [0.14509805, 0.21960784, 0.38431373],\n",
              "          ...,\n",
              "          [0.2       , 0.20784314, 0.36862746],\n",
              "          [0.23921569, 0.23529412, 0.4       ],\n",
              "          [0.21568628, 0.21176471, 0.3764706 ]],\n",
              " \n",
              "         [[0.12156863, 0.21176471, 0.37254903],\n",
              "          [0.16470589, 0.2509804 , 0.4117647 ],\n",
              "          [0.14117648, 0.21568628, 0.38039216],\n",
              "          ...,\n",
              "          [0.23137255, 0.23921569, 0.39215687],\n",
              "          [0.2       , 0.20784314, 0.36862746],\n",
              "          [0.23137255, 0.23921569, 0.39215687]],\n",
              " \n",
              "         [[0.1254902 , 0.2       , 0.3647059 ],\n",
              "          [0.13725491, 0.21176471, 0.3764706 ],\n",
              "          [0.09803922, 0.17254902, 0.34117648],\n",
              "          ...,\n",
              "          [0.20392157, 0.21960784, 0.3647059 ],\n",
              "          [0.20784314, 0.22352941, 0.37254903],\n",
              "          [0.20784314, 0.22352941, 0.36862746]],\n",
              " \n",
              "         ...,\n",
              " \n",
              "         [[0.2627451 , 0.54509807, 0.7019608 ],\n",
              "          [0.25490198, 0.54509807, 0.69803923],\n",
              "          [0.2509804 , 0.5411765 , 0.6862745 ],\n",
              "          ...,\n",
              "          [0.28235295, 0.57254905, 0.7176471 ],\n",
              "          [0.26666668, 0.5568628 , 0.70980394],\n",
              "          [0.27450982, 0.5647059 , 0.7176471 ]],\n",
              " \n",
              "         [[0.2509804 , 0.5411765 , 0.69411767],\n",
              "          [0.2509804 , 0.54509807, 0.69803923],\n",
              "          [0.28627452, 0.58431375, 0.7254902 ],\n",
              "          ...,\n",
              "          [0.3137255 , 0.5882353 , 0.7294118 ],\n",
              "          [0.2901961 , 0.56078434, 0.7137255 ],\n",
              "          [0.29411766, 0.5764706 , 0.7254902 ]],\n",
              " \n",
              "         [[0.2627451 , 0.5568628 , 0.70980394],\n",
              "          [0.27450982, 0.5686275 , 0.72156864],\n",
              "          [0.2784314 , 0.58431375, 0.7254902 ],\n",
              "          ...,\n",
              "          [0.34117648, 0.60784316, 0.74509805],\n",
              "          [0.3137255 , 0.58431375, 0.7372549 ],\n",
              "          [0.33333334, 0.6039216 , 0.75686276]]],\n",
              " \n",
              " \n",
              "        ...,\n",
              " \n",
              " \n",
              "        [[[0.24313726, 0.5294118 , 0.69803923],\n",
              "          [0.25882354, 0.54509807, 0.7137255 ],\n",
              "          [0.2509804 , 0.5372549 , 0.7058824 ],\n",
              "          ...,\n",
              "          [0.2784314 , 0.5411765 , 0.7176471 ],\n",
              "          [0.26666668, 0.5294118 , 0.7058824 ],\n",
              "          [0.26666668, 0.5294118 , 0.7058824 ]],\n",
              " \n",
              "         [[0.25490198, 0.5411765 , 0.70980394],\n",
              "          [0.27450982, 0.56078434, 0.7294118 ],\n",
              "          [0.2627451 , 0.54901963, 0.7176471 ],\n",
              "          ...,\n",
              "          [0.2901961 , 0.5529412 , 0.7294118 ],\n",
              "          [0.2784314 , 0.5411765 , 0.7176471 ],\n",
              "          [0.2627451 , 0.5254902 , 0.7019608 ]],\n",
              " \n",
              "         [[0.22352941, 0.50980395, 0.6784314 ],\n",
              "          [0.23137255, 0.5176471 , 0.6862745 ],\n",
              "          [0.2627451 , 0.54901963, 0.7176471 ],\n",
              "          ...,\n",
              "          [0.26666668, 0.53333336, 0.7176471 ],\n",
              "          [0.2627451 , 0.5294118 , 0.7137255 ],\n",
              "          [0.2509804 , 0.5176471 , 0.7019608 ]],\n",
              " \n",
              "         ...,\n",
              " \n",
              "         [[0.2901961 , 0.5686275 , 0.73333335],\n",
              "          [0.27058825, 0.54901963, 0.7137255 ],\n",
              "          [0.2901961 , 0.5686275 , 0.7411765 ],\n",
              "          ...,\n",
              "          [0.28627452, 0.5529412 , 0.7372549 ],\n",
              "          [0.2784314 , 0.5568628 , 0.7372549 ],\n",
              "          [0.26666668, 0.54509807, 0.7254902 ]],\n",
              " \n",
              "         [[0.28235295, 0.5647059 , 0.72156864],\n",
              "          [0.27450982, 0.5568628 , 0.7137255 ],\n",
              "          [0.2901961 , 0.5686275 , 0.73333335],\n",
              "          ...,\n",
              "          [0.27450982, 0.5529412 , 0.7254902 ],\n",
              "          [0.2784314 , 0.5568628 , 0.7294118 ],\n",
              "          [0.2784314 , 0.5568628 , 0.7294118 ]],\n",
              " \n",
              "         [[0.27450982, 0.5568628 , 0.7137255 ],\n",
              "          [0.28235295, 0.5647059 , 0.72156864],\n",
              "          [0.28627452, 0.5647059 , 0.7294118 ],\n",
              "          ...,\n",
              "          [0.27450982, 0.5529412 , 0.7254902 ],\n",
              "          [0.2784314 , 0.5568628 , 0.7294118 ],\n",
              "          [0.2784314 , 0.5568628 , 0.7294118 ]]],\n",
              " \n",
              " \n",
              "        [[[0.13725491, 0.13725491, 0.13725491],\n",
              "          [0.13725491, 0.13725491, 0.13725491],\n",
              "          [0.13725491, 0.13725491, 0.13725491],\n",
              "          ...,\n",
              "          [0.13725491, 0.13725491, 0.13725491],\n",
              "          [0.13725491, 0.13725491, 0.13725491],\n",
              "          [0.13725491, 0.13725491, 0.13725491]],\n",
              " \n",
              "         [[0.13725491, 0.13725491, 0.13725491],\n",
              "          [0.13725491, 0.13725491, 0.13725491],\n",
              "          [0.13725491, 0.13725491, 0.13725491],\n",
              "          ...,\n",
              "          [0.13725491, 0.13725491, 0.13725491],\n",
              "          [0.13725491, 0.13725491, 0.13725491],\n",
              "          [0.13725491, 0.13725491, 0.13725491]],\n",
              " \n",
              "         [[0.13725491, 0.13725491, 0.13725491],\n",
              "          [0.13725491, 0.13725491, 0.13725491],\n",
              "          [0.13725491, 0.13725491, 0.13725491],\n",
              "          ...,\n",
              "          [0.13725491, 0.13725491, 0.13725491],\n",
              "          [0.13725491, 0.13725491, 0.13725491],\n",
              "          [0.13725491, 0.13725491, 0.13725491]],\n",
              " \n",
              "         ...,\n",
              " \n",
              "         [[0.13725491, 0.13725491, 0.13725491],\n",
              "          [0.13725491, 0.13725491, 0.13725491],\n",
              "          [0.13725491, 0.13725491, 0.13725491],\n",
              "          ...,\n",
              "          [0.13725491, 0.13725491, 0.13725491],\n",
              "          [0.13725491, 0.13725491, 0.13725491],\n",
              "          [0.13725491, 0.13725491, 0.13725491]],\n",
              " \n",
              "         [[0.13725491, 0.13725491, 0.13725491],\n",
              "          [0.13725491, 0.13725491, 0.13725491],\n",
              "          [0.13725491, 0.13725491, 0.13725491],\n",
              "          ...,\n",
              "          [0.13725491, 0.13725491, 0.13725491],\n",
              "          [0.13725491, 0.13725491, 0.13725491],\n",
              "          [0.13725491, 0.13725491, 0.13725491]],\n",
              " \n",
              "         [[0.13725491, 0.13725491, 0.13725491],\n",
              "          [0.13725491, 0.13725491, 0.13725491],\n",
              "          [0.13725491, 0.13725491, 0.13725491],\n",
              "          ...,\n",
              "          [0.13725491, 0.13725491, 0.13725491],\n",
              "          [0.13725491, 0.13725491, 0.13725491],\n",
              "          [0.13725491, 0.13725491, 0.13725491]]],\n",
              " \n",
              " \n",
              "        [[[0.3882353 , 0.40784314, 0.39215687],\n",
              "          [0.45882353, 0.47843137, 0.4627451 ],\n",
              "          [0.47843137, 0.4862745 , 0.4745098 ],\n",
              "          ...,\n",
              "          [0.0627451 , 0.02745098, 0.        ],\n",
              "          [0.18431373, 0.15686275, 0.13333334],\n",
              "          [0.25882354, 0.23921569, 0.21568628]],\n",
              " \n",
              "         [[0.4       , 0.41960785, 0.40392157],\n",
              "          [0.43529412, 0.45490196, 0.4392157 ],\n",
              "          [0.46666667, 0.4745098 , 0.4627451 ],\n",
              "          ...,\n",
              "          [0.16078432, 0.11764706, 0.09411765],\n",
              "          [0.2509804 , 0.22352941, 0.2       ],\n",
              "          [0.2509804 , 0.23137255, 0.20784314]],\n",
              " \n",
              "         [[0.4392157 , 0.44705883, 0.43529412],\n",
              "          [0.43137255, 0.4392157 , 0.42745098],\n",
              "          [0.5254902 , 0.53333336, 0.52156866],\n",
              "          ...,\n",
              "          [0.1882353 , 0.13333334, 0.12941177],\n",
              "          [0.16862746, 0.12941177, 0.12156863],\n",
              "          [0.14509805, 0.11372549, 0.10196079]],\n",
              " \n",
              "         ...,\n",
              " \n",
              "         [[0.        , 0.        , 0.        ],\n",
              "          [0.        , 0.        , 0.        ],\n",
              "          [0.        , 0.        , 0.        ],\n",
              "          ...,\n",
              "          [0.        , 0.        , 0.        ],\n",
              "          [0.        , 0.        , 0.        ],\n",
              "          [0.        , 0.        , 0.        ]],\n",
              " \n",
              "         [[0.        , 0.        , 0.        ],\n",
              "          [0.        , 0.        , 0.        ],\n",
              "          [0.        , 0.        , 0.        ],\n",
              "          ...,\n",
              "          [0.        , 0.        , 0.        ],\n",
              "          [0.        , 0.        , 0.        ],\n",
              "          [0.        , 0.        , 0.        ]],\n",
              " \n",
              "         [[0.        , 0.        , 0.        ],\n",
              "          [0.        , 0.        , 0.        ],\n",
              "          [0.        , 0.        , 0.        ],\n",
              "          ...,\n",
              "          [0.        , 0.        , 0.        ],\n",
              "          [0.        , 0.        , 0.        ],\n",
              "          [0.        , 0.        , 0.        ]]]], dtype=float32),\n",
              " (array([[0, 0, 0, 0, 0, 0, 1, 0],\n",
              "         [0, 1, 0, 0, 0, 0, 0, 0],\n",
              "         [0, 0, 0, 0, 0, 0, 1, 0],\n",
              "         [0, 0, 0, 0, 0, 0, 0, 1],\n",
              "         [1, 0, 0, 0, 0, 0, 0, 0],\n",
              "         [0, 0, 0, 0, 0, 0, 1, 0],\n",
              "         [0, 1, 0, 0, 0, 0, 0, 0],\n",
              "         [0, 0, 0, 0, 0, 0, 0, 1],\n",
              "         [0, 0, 0, 0, 0, 0, 1, 0],\n",
              "         [0, 0, 1, 0, 0, 0, 0, 0],\n",
              "         [0, 0, 0, 0, 0, 1, 0, 0],\n",
              "         [0, 0, 0, 0, 0, 1, 0, 0],\n",
              "         [0, 0, 1, 0, 0, 0, 0, 0],\n",
              "         [0, 0, 0, 0, 1, 0, 0, 0],\n",
              "         [0, 0, 0, 0, 0, 0, 1, 0],\n",
              "         [0, 0, 0, 0, 0, 1, 0, 0],\n",
              "         [0, 0, 0, 0, 0, 0, 1, 0],\n",
              "         [0, 0, 0, 0, 0, 0, 1, 0],\n",
              "         [0, 0, 0, 0, 0, 1, 0, 0],\n",
              "         [1, 0, 0, 0, 0, 0, 0, 0],\n",
              "         [0, 0, 1, 0, 0, 0, 0, 0],\n",
              "         [0, 0, 0, 0, 0, 0, 0, 1],\n",
              "         [0, 0, 0, 0, 0, 0, 0, 1],\n",
              "         [0, 0, 0, 0, 0, 0, 1, 0],\n",
              "         [0, 0, 1, 0, 0, 0, 0, 0],\n",
              "         [0, 0, 0, 0, 0, 1, 0, 0],\n",
              "         [0, 0, 1, 0, 0, 0, 0, 0],\n",
              "         [0, 1, 0, 0, 0, 0, 0, 0],\n",
              "         [0, 0, 1, 0, 0, 0, 0, 0],\n",
              "         [0, 0, 0, 0, 0, 1, 0, 0],\n",
              "         [0, 0, 0, 0, 0, 0, 1, 0],\n",
              "         [1, 0, 0, 0, 0, 0, 0, 0]], dtype=uint64),\n",
              "  array([[0.2416 , 0.1677 , 0.434  , 0.3245 ],\n",
              "         [0.182  , 0.3594 , 0.7803 , 0.738  ],\n",
              "         [0.3972 , 0.617  , 0.4563 , 0.693  ],\n",
              "         [0.2412 , 0.2756 , 0.65   , 0.566  ],\n",
              "         [0.2316 , 0.2219 , 0.3904 , 0.3835 ],\n",
              "         [0.2832 , 0.1266 , 0.7036 , 0.8584 ],\n",
              "         [0.3025 , 0.3806 , 0.657  , 0.65   ],\n",
              "         [0.2412 , 0.2756 , 0.65   , 0.566  ],\n",
              "         [0.2812 , 0.565  , 0.3286 , 0.6074 ],\n",
              "         [0.2294 , 0.078  , 0.7495 , 0.891  ],\n",
              "         [0.4658 , 0.3545 , 0.6123 , 0.5723 ],\n",
              "         [0.4658 , 0.428  , 0.6123 , 0.6455 ],\n",
              "         [0.1868 , 0.1631 , 0.6147 , 0.7256 ],\n",
              "         [0.4639 , 0.638  , 0.6514 , 0.858  ],\n",
              "         [0.544  , 0.3074 , 0.603  , 0.383  ],\n",
              "         [0.5273 , 0.3877 , 0.6904 , 0.544  ],\n",
              "         [0.56   , 0.2009 , 0.955  , 0.6807 ],\n",
              "         [0.2888 , 0.1628 , 0.3845 , 0.331  ],\n",
              "         [0.2722 , 0.363  , 0.673  , 0.728  ],\n",
              "         [0.4165 , 0.8604 , 0.5156 , 0.9507 ],\n",
              "         [0.1891 , 0.1371 , 0.7563 , 0.9053 ],\n",
              "         [0.6313 , 0.4255 , 0.7446 , 0.638  ],\n",
              "         [0.364  , 0.2812 , 0.6714 , 0.6196 ],\n",
              "         [0.3972 , 0.617  , 0.4563 , 0.693  ],\n",
              "         [0.00951, 0.3154 , 0.981  , 1.     ],\n",
              "         [0.5674 , 0.253  , 0.754  , 0.4988 ],\n",
              "         [0.4043 , 0.02837, 0.9478 , 0.8984 ],\n",
              "         [0.546  , 0.104  , 0.7637 , 0.4468 ],\n",
              "         [0.2294 , 0.10876, 0.7495 , 0.922  ],\n",
              "         [0.08276, 0.3025 , 0.846  , 0.806  ],\n",
              "         [0.1743 , 0.0693 , 0.4685 , 0.373  ],\n",
              "         [0.4893 , 0.624  , 0.5767 , 0.7354 ]], dtype=float16),\n",
              "  array([[0, 0, 1, 0],\n",
              "         [1, 0, 0, 0],\n",
              "         [0, 0, 1, 0],\n",
              "         [0, 1, 0, 0],\n",
              "         [0, 0, 0, 1],\n",
              "         [0, 0, 1, 0],\n",
              "         [0, 0, 0, 1],\n",
              "         [0, 1, 0, 0],\n",
              "         [0, 0, 1, 0],\n",
              "         [1, 0, 0, 0],\n",
              "         [0, 1, 0, 0],\n",
              "         [0, 1, 0, 0],\n",
              "         [1, 0, 0, 0],\n",
              "         [0, 0, 1, 0],\n",
              "         [0, 0, 1, 0],\n",
              "         [0, 0, 1, 0],\n",
              "         [0, 0, 1, 0],\n",
              "         [0, 0, 1, 0],\n",
              "         [0, 1, 0, 0],\n",
              "         [0, 0, 0, 1],\n",
              "         [1, 0, 0, 0],\n",
              "         [0, 1, 0, 0],\n",
              "         [0, 1, 0, 0],\n",
              "         [0, 0, 1, 0],\n",
              "         [1, 0, 0, 0],\n",
              "         [0, 0, 1, 0],\n",
              "         [1, 0, 0, 0],\n",
              "         [0, 0, 0, 1],\n",
              "         [1, 0, 0, 0],\n",
              "         [0, 0, 1, 0],\n",
              "         [0, 0, 1, 0],\n",
              "         [0, 0, 0, 1]], dtype=uint64)))"
            ]
          },
          "metadata": {},
          "execution_count": 18
        }
      ]
    },
    {
      "cell_type": "markdown",
      "source": [
        "***\n",
        "### Build and Train the model"
      ],
      "metadata": {
        "id": "Xx50x0zV3hM9"
      }
    },
    {
      "cell_type": "code",
      "source": [
        "# build model using Functional API\n",
        "def build_model(): \n",
        "    input_layer = Input(shape=(150,150,3))\n",
        "    \n",
        "    vgg = VGG16(include_top=False)(input_layer)\n",
        "\n",
        "    # classification branch  \n",
        "    b1 = GlobalMaxPooling2D()(vgg)\n",
        "    class1 = Dense(2048, activation='relu')(b1)\n",
        "    class2 = Dense(8, activation='softmax')(class1)\n",
        "    \n",
        "    # bounding box branch\n",
        "    b2 = GlobalMaxPooling2D()(vgg)\n",
        "    regress1 = Dense(2048, activation='relu')(b2)\n",
        "    regress2 = Dense(4, activation='sigmoid')(regress1)\n",
        "    \n",
        "    CAobjectdetection2 = Model(inputs=input_layer, outputs=[class2, regress2])\n",
        "    return CAobjectdetection2"
      ],
      "metadata": {
        "id": "An49tfnScdHX"
      },
      "execution_count": null,
      "outputs": []
    },
    {
      "cell_type": "code",
      "source": [
        "CAobjectdetection2 = build_model()"
      ],
      "metadata": {
        "id": "GL6MFY1IcdKB"
      },
      "execution_count": null,
      "outputs": []
    },
    {
      "cell_type": "code",
      "source": [
        "# learning rate decays by 75% of prev rate per epoch to prevent overfitting\n",
        "lr_decay = (1./0.75 -1)/len(train)"
      ],
      "metadata": {
        "id": "HM4pZqL0cdMh"
      },
      "execution_count": null,
      "outputs": []
    },
    {
      "cell_type": "code",
      "source": [
        "# low learning rate since transfer learning is used\n",
        "opt = tf.keras.optimizers.legacy.Adam(learning_rate=0.0001, decay=lr_decay)"
      ],
      "metadata": {
        "id": "NkPPk9nyct2X"
      },
      "execution_count": null,
      "outputs": []
    },
    {
      "cell_type": "code",
      "source": [
        "# custom function to calculate bounding box IoU metric\n",
        "def iou(y_true, y_pred):\n",
        "    AoG = tf.abs(tf.transpose(y_true)[2] - tf.transpose(y_true)[0] + 1) * tf.abs(tf.transpose(y_true)[3] - tf.transpose(y_true)[1] + 1)\n",
        "    AoP = tf.abs(tf.transpose(y_pred)[2] - tf.transpose(y_pred)[0] + 1) * tf.abs(tf.transpose(y_pred)[3] - tf.transpose(y_pred)[1] + 1)\n",
        "\n",
        "    overlap_0 = tf.maximum(tf.transpose(y_true)[0], tf.transpose(y_pred)[0])\n",
        "    overlap_1 = tf.maximum(tf.transpose(y_true)[1], tf.transpose(y_pred)[1])\n",
        "    overlap_2 = tf.minimum(tf.transpose(y_true)[2], tf.transpose(y_pred)[2])\n",
        "    overlap_3 = tf.minimum(tf.transpose(y_true)[3], tf.transpose(y_pred)[3])\n",
        "\n",
        "    intersection = (overlap_2 - overlap_0 + 1) * (overlap_3 - overlap_1 + 1)\n",
        "    union = AoG + AoP - intersection\n",
        "    iou = intersection / union\n",
        "    iou = tf.clip_by_value(iou, 0.0 + tf.keras.backend.epsilon(), 1.0 - tf.keras.backend.epsilon())\n",
        "\n",
        "    return iou "
      ],
      "metadata": {
        "id": "Z0Dr2m0Bct4_"
      },
      "execution_count": null,
      "outputs": []
    },
    {
      "cell_type": "code",
      "source": [
        "# helper function to calculate the running mean IoU of each training batch\n",
        "def mean():\n",
        "    count = 0\n",
        "    mean = 0\n",
        "    \n",
        "    def inner(value):\n",
        "        nonlocal count, mean\n",
        "        count += 1\n",
        "        mean += (value - mean) / count\n",
        "        return mean\n",
        "    \n",
        "    return inner"
      ],
      "metadata": {
        "id": "ASAgjjB9ct7n"
      },
      "execution_count": null,
      "outputs": []
    },
    {
      "cell_type": "code",
      "source": [
        "# Subclassed Keras Model() class\n",
        "class CAOD2(Model): \n",
        "    # to initialize with custom metrics for calculating accuracy and IoU\n",
        "    def __init__(self, odmodel,  **kwargs): \n",
        "        super().__init__(**kwargs)\n",
        "        self.model = odmodel\n",
        "        self.acc_metric = tf.keras.metrics.Accuracy(name=\"acc\")\n",
        "        self.iou = iou\n",
        "        \n",
        "    # to compile with custom loss functions\n",
        "    def compile(self, opt, classloss, localizationloss, sceneloss, **kwargs):\n",
        "        super().compile(**kwargs)\n",
        "        self.opt = opt\n",
        "        self.closs = classloss\n",
        "        self.lloss = localizationloss\n",
        "        self.sloss = sceneloss\n",
        "        \n",
        "    # to train model\n",
        "    def train_step(self, batch, **kwargs): \n",
        "        # take one batch \n",
        "        X, y = batch\n",
        "        iou_result = 0.0\n",
        "        \n",
        "        with tf.GradientTape() as tape: \n",
        "            # make predictions\n",
        "            classes, coords = self.model(X, training=True)\n",
        "            # make scene prediction using scene classification model\n",
        "            scene_pred = scene_model(X)\n",
        "            \n",
        "            # calculate losses\n",
        "            batch_classloss = self.closs(y[0], classes)\n",
        "            batch_localizationloss = self.lloss(tf.cast(y[1], tf.float32), coords)\n",
        "            batch_sceneloss = self.sloss(y[2], scene_pred)\n",
        "\n",
        "            total_loss = batch_localizationloss + batch_sceneloss + 0.5*batch_classloss\n",
        "            grad = tape.gradient(total_loss, self.model.trainable_variables)\n",
        "            \n",
        "        # apply gradients    \n",
        "        opt.apply_gradients(zip(grad, self.model.trainable_variables))\n",
        "        \n",
        "        # calculate metrics\n",
        "        self.acc_metric.update_state(tf.argmax(y[0], 1), tf.argmax(classes, 1))\n",
        "        iou_result = iou(tf.cast(y[1], tf.float32), coords)\n",
        "        mean_iou = mean()\n",
        "        \n",
        "        # return loss and metrics to monitor training progress\n",
        "        return {\"total loss\":total_loss, \"accuracy\":self.acc_metric.result(), \"mean iou\":mean_iou(iou_result)}\n",
        "    \n",
        "    # to test model and get validation set results\n",
        "    def test_step(self, batch, **kwargs): \n",
        "        # take one batch\n",
        "        X, y = batch\n",
        "        iou_result=0.0\n",
        "        \n",
        "        # make predictions\n",
        "        classes, coords = self.model(X, training=False)\n",
        "        scene_pred = scene_model(X)\n",
        "        \n",
        "        # calculate losses\n",
        "        batch_classloss = self.closs(y[0], classes)\n",
        "        batch_localizationloss = self.lloss(tf.cast(y[1], tf.float32), coords)\n",
        "        batch_sceneloss = self.sloss(y[2], scene_pred)\n",
        "        total_loss = batch_localizationloss + batch_sceneloss + 0.5*batch_classloss\n",
        "        \n",
        "        # calculate metrics\n",
        "        self.acc_metric.update_state(tf.argmax(y[0], 1), tf.argmax(classes, 1))\n",
        "        iou_result = iou(tf.cast(y[1], tf.float32), coords)\n",
        "        mean_iou = mean()\n",
        "        \n",
        "        # return loss and metrics\n",
        "        return {\"total loss\":total_loss, \"accuracy\":self.acc_metric.result(), \"mean iou\":mean_iou(iou_result)}\n",
        "    \n",
        "    # to reinitialize metrics after each epoch\n",
        "    @property\n",
        "    def metrics(self):\n",
        "        return [self.acc_metric] \n",
        "        \n",
        "    # to make predictions with trained model\n",
        "    def call(self, X, **kwargs): \n",
        "        return self.model(X, **kwargs)"
      ],
      "metadata": {
        "id": "J0ngaXFNcdPk"
      },
      "execution_count": null,
      "outputs": []
    },
    {
      "cell_type": "code",
      "source": [
        "model = CAOD2(CAobjectdetection2)"
      ],
      "metadata": {
        "id": "10RQLDwGd-6x"
      },
      "execution_count": null,
      "outputs": []
    },
    {
      "cell_type": "code",
      "source": [
        "# compile model\n",
        "model.compile(opt, \n",
        "              tf.keras.losses.CategoricalCrossentropy(), \n",
        "              tf.keras.losses.Huber(),\n",
        "              tf.keras.losses.CategoricalCrossentropy())"
      ],
      "metadata": {
        "id": "EbjifDp1d-9H"
      },
      "execution_count": null,
      "outputs": []
    },
    {
      "cell_type": "code",
      "source": [
        "early_stop = EarlyStopping(monitor='val_accuracy', patience=4)"
      ],
      "metadata": {
        "id": "ynDUpYxcd_BX"
      },
      "execution_count": null,
      "outputs": []
    },
    {
      "cell_type": "code",
      "source": [
        "# train model\n",
        "hist = model.fit(train, epochs=30, validation_data=val, callbacks=[early_stop])"
      ],
      "metadata": {
        "id": "cqqW3QRId_Eo"
      },
      "execution_count": null,
      "outputs": []
    },
    {
      "cell_type": "code",
      "source": [
        "# helper method to plot graph for mean IoU\n",
        "histmeannparray = np.array(hist.history['mean iou'])\n",
        "histvalmeannparray = np.array(hist.history['val_mean iou'])\n",
        "meanlist = []\n",
        "valmeanlist = []\n",
        "\n",
        "for x in range(0,24):\n",
        "    arr1 = histmeannparray[x]\n",
        "    arr2 = histvalmeannparray[x]\n",
        "    means = np.mean(arr1)\n",
        "    valmeans = np.mean(arr2)\n",
        "    meanlist.append(means)\n",
        "    valmeanlist.append(valmeans)"
      ],
      "metadata": {
        "id": "fCGtOL7Kd_J3"
      },
      "execution_count": null,
      "outputs": []
    },
    {
      "cell_type": "code",
      "source": [
        "fig, ax = plt.subplots(ncols=3, figsize=(15,5))\n",
        "\n",
        "ax[0].plot(hist.history['total loss'], color='teal', label='loss')\n",
        "ax[0].plot(hist.history['val_total loss'], color='orange', label='val loss')\n",
        "ax[0].title.set_text('Loss')\n",
        "ax[0].legend()\n",
        "\n",
        "ax[1].plot(hist.history['accuracy'], color='teal', label='acc')\n",
        "ax[1].plot(hist.history['val_accuracy'], color='orange', label='val acc')\n",
        "ax[1].title.set_text('Accuracy')\n",
        "ax[1].legend()\n",
        "\n",
        "ax[2].plot(meanlist, color='teal', label='mean IoU')\n",
        "ax[2].plot(valmeanlist, color='orange', label='val mean IoU')\n",
        "ax[2].title.set_text('Mean IoU')\n",
        "ax[2].legend()\n",
        "\n",
        "plt.show()"
      ],
      "metadata": {
        "colab": {
          "base_uri": "https://localhost:8080/",
          "height": 452
        },
        "id": "02L1bwzEd_Mv",
        "outputId": "5fd5a70d-2a85-4513-c65b-4e1c85d8a871"
      },
      "execution_count": null,
      "outputs": [
        {
          "output_type": "display_data",
          "data": {
            "text/plain": [
              "<Figure size 1500x500 with 3 Axes>"
            ],
            "image/png": "[encoded data removed]"
          },
          "metadata": {}
        }
      ]
    },
    {
      "cell_type": "markdown",
      "source": [
        "***\n",
        "### Evaluate the trained model"
      ],
      "metadata": {
        "id": "xjOPYXTX3mP7"
      }
    },
    {
      "cell_type": "code",
      "source": [
        "from sklearn import metrics\n",
        "import seaborn as sns"
      ],
      "metadata": {
        "id": "VGqLYqVegCAZ"
      },
      "execution_count": null,
      "outputs": []
    },
    {
      "cell_type": "code",
      "source": [
        "results = model.evaluate(test)"
      ],
      "metadata": {
        "colab": {
          "base_uri": "https://localhost:8080/"
        },
        "id": "Y5GLwxClgCDD",
        "outputId": "ac1c7014-448d-46fb-8a8d-c24dc52d412f"
      },
      "execution_count": null,
      "outputs": [
        {
          "output_type": "stream",
          "name": "stdout",
          "text": [
            "1/1 [==============================] - 4s 4s/step - total loss: 2.9557 - accuracy: 0.7514 - mean iou: 0.6896\n"
          ]
        }
      ]
    },
    {
      "cell_type": "code",
      "source": [
        "print(\"test accuracy:\", results[0])\n",
        "print(\"test mean IoU:\", results[1].mean())"
      ],
      "metadata": {
        "colab": {
          "base_uri": "https://localhost:8080/"
        },
        "id": "jy60WUaAgCFu",
        "outputId": "203bb3ae-411e-4d44-e889-b912a217942f"
      },
      "execution_count": null,
      "outputs": [
        {
          "output_type": "stream",
          "name": "stdout",
          "text": [
            "test accuracy: 0.7514204382896423\n",
            "test mean IoU: 0.6895656\n"
          ]
        }
      ]
    },
    {
      "cell_type": "code",
      "source": [
        "testimages, testtruelabels = test.as_numpy_iterator().next()"
      ],
      "metadata": {
        "id": "DusGcKY0gc_B"
      },
      "execution_count": null,
      "outputs": []
    },
    {
      "cell_type": "code",
      "source": [
        "pred=model.predict(testimages)"
      ],
      "metadata": {
        "id": "9ty4m_KJgdBt"
      },
      "execution_count": null,
      "outputs": []
    },
    {
      "cell_type": "code",
      "source": [
        "cm = metrics.confusion_matrix(np.argmax(testtruelabels[0], axis=1), np.argmax(pred[0], axis=1))"
      ],
      "metadata": {
        "id": "zOoON28JgdEG"
      },
      "execution_count": null,
      "outputs": []
    },
    {
      "cell_type": "code",
      "source": [
        "plt.figure(figsize=(6,6))\n",
        "sns.heatmap(cm, annot=True, fmt='0.3f', linewidth=0.5, square=True, cbar=False, cmap='Blues')\n",
        "plt.ylabel('Actual Values')\n",
        "plt.xlabel('Predicted Values')\n",
        "plt.show()"
      ],
      "metadata": {
        "colab": {
          "base_uri": "https://localhost:8080/",
          "height": 542
        },
        "id": "Sc5yKUHVgdGu",
        "outputId": "4a5d7c58-b130-4fe7-bb5c-8729b518af0e"
      },
      "execution_count": null,
      "outputs": [
        {
          "output_type": "display_data",
          "data": {
            "text/plain": [
              "<Figure size 600x600 with 1 Axes>"
            ],
            "image/png": "[encoded data removed]"
          },
          "metadata": {}
        }
      ]
    },
    {
      "cell_type": "code",
      "source": [
        "print(metrics.classification_report(np.argmax(testtruelabels[0], axis=1), np.argmax(pred[0], axis=1)))"
      ],
      "metadata": {
        "id": "VnwuPDNmgdJU"
      },
      "execution_count": null,
      "outputs": []
    },
    {
      "cell_type": "code",
      "source": [
        "# function to display class and bbox predictions made by trained model\n",
        "fig, ax = plt.subplots(ncols=4, figsize=(20,20))\n",
        "for idx in range(4): \n",
        "    sample_image = test_sample[0][idx]\n",
        "    sample_coords = pred[1][idx]\n",
        "    \n",
        "    img=cv2.rectangle(sample_image, \n",
        "                      tuple(np.multiply(sample_coords[:2], [150,150]).astype(int)),\n",
        "                      tuple(np.multiply(sample_coords[2:], [150,150]).astype(int)), \n",
        "                            (255,0,0), 2)\n",
        "    \n",
        "    if np.argmax(pred[0][idx]) == 0:\n",
        "        img = cv2.putText(img, 'football', (tuple(np.multiply(sample_coords[:2], [150,150]).astype(int))[0],\n",
        "                                          tuple(np.multiply(sample_coords[:2], [150,150]).astype(int))[1]-10), \n",
        "                        cv2.FONT_HERSHEY_SIMPLEX, 0.5, (255,0,0), 1)\n",
        "        \n",
        "    elif np.argmax(pred[0][idx]) == 1:\n",
        "        img = cv2.putText(img, 'umbrella', (tuple(np.multiply(sample_coords[:2], [150,150]).astype(int))[0],\n",
        "                                          tuple(np.multiply(sample_coords[:2], [150,150]).astype(int))[1]-10), \n",
        "                        cv2.FONT_HERSHEY_SIMPLEX, 0.5, (255,0,0), 1)\n",
        "        \n",
        "    elif np.argmax(pred[0][idx]) == 2:\n",
        "        img = cv2.putText(img, 'sandcastle', (tuple(np.multiply(sample_coords[:2], [150,150]).astype(int))[0],\n",
        "                                          tuple(np.multiply(sample_coords[:2], [150,150]).astype(int))[1]-10), \n",
        "                        cv2.FONT_HERSHEY_SIMPLEX, 0.5, (255,0,0), 1)\n",
        "        \n",
        "    elif np.argmax(pred[0][idx]) == 3:\n",
        "        img = cv2.putText(img, 'car', (tuple(np.multiply(sample_coords[:2], [150,150]).astype(int))[0],\n",
        "                                          tuple(np.multiply(sample_coords[:2], [150,150]).astype(int))[1]-10), \n",
        "                        cv2.FONT_HERSHEY_SIMPLEX, 0.5, (255,0,0), 1)\n",
        "        \n",
        "    elif np.argmax(pred[0][idx]) == 4:\n",
        "        img = cv2.putText(img, 'airplane', (tuple(np.multiply(sample_coords[:2], [150,150]).astype(int))[0],\n",
        "                                          tuple(np.multiply(sample_coords[:2], [150,150]).astype(int))[1]-10), \n",
        "                        cv2.FONT_HERSHEY_SIMPLEX, 0.5, (255,0,0), 1)\n",
        "        \n",
        "    elif np.argmax(pred[0][idx]) == 5:\n",
        "        img = cv2.putText(img, 'bird', (tuple(np.multiply(sample_coords[:2], [150,150]).astype(int))[0],\n",
        "                                          tuple(np.multiply(sample_coords[:2], [150,150]).astype(int))[1]-10), \n",
        "                        cv2.FONT_HERSHEY_SIMPLEX, 0.5, (255,0,0), 1)\n",
        "        \n",
        "    elif np.argmax(pred[0][idx]) == 6:\n",
        "        img = cv2.putText(img, 'moon', (tuple(np.multiply(sample_coords[:2], [150,150]).astype(int))[0],\n",
        "                                          tuple(np.multiply(sample_coords[:2], [150,150]).astype(int))[1]-10), \n",
        "                        cv2.FONT_HERSHEY_SIMPLEX, 0.5, (255,0,0), 1)\n",
        "        \n",
        "    elif np.argmax(pred[0][idx]) == 7:\n",
        "        img = cv2.putText(img, 'apple', (tuple(np.multiply(sample_coords[:2], [150,150]).astype(int))[0],\n",
        "                                          tuple(np.multiply(sample_coords[:2], [150,150]).astype(int))[1]-10), \n",
        "                        cv2.FONT_HERSHEY_SIMPLEX, 0.5, (255,0,0), 1)\n",
        "\n",
        "    ax[idx].imshow(img)"
      ],
      "metadata": {
        "id": "yZOkOUYCgdLv"
      },
      "execution_count": null,
      "outputs": []
    }
  ]
}